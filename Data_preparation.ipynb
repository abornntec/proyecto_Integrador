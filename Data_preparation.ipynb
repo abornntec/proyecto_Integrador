{
 "cells": [
  {
   "cell_type": "markdown",
   "id": "48a5cc65-15a1-4bc1-a6ba-4d74111e5596",
   "metadata": {},
   "source": [
    "## Install needed Libraries"
   ]
  },
  {
   "cell_type": "markdown",
   "id": "b4929780-4d92-4f4b-abf7-5e311db21f5d",
   "metadata": {},
   "source": [
    "### Install Libraries from pip"
   ]
  },
  {
   "cell_type": "code",
   "execution_count": 1,
   "id": "d9bd9948-c207-404a-a4cd-c69513511672",
   "metadata": {},
   "outputs": [
    {
     "name": "stdout",
     "output_type": "stream",
     "text": [
      "Collecting langchain\n",
      "  Downloading langchain-0.3.25-py3-none-any.whl.metadata (7.8 kB)\n",
      "Collecting langchain-community\n",
      "  Downloading langchain_community-0.3.23-py3-none-any.whl.metadata (2.5 kB)\n",
      "Requirement already satisfied: pandas in /Users/juanfuentesleon/data/lib/python3.9/site-packages (2.2.3)\n",
      "Requirement already satisfied: numpy in /Users/juanfuentesleon/data/lib/python3.9/site-packages (2.0.2)\n",
      "Requirement already satisfied: matplotlib in /Users/juanfuentesleon/data/lib/python3.9/site-packages (3.9.4)\n",
      "Collecting seaborn\n",
      "  Downloading seaborn-0.13.2-py3-none-any.whl.metadata (5.4 kB)\n",
      "Collecting nltk\n",
      "  Downloading nltk-3.9.1-py3-none-any.whl.metadata (2.9 kB)\n",
      "Collecting textstat\n",
      "  Downloading textstat-0.7.5-py3-none-any.whl.metadata (15 kB)\n",
      "Collecting langchain-core<1.0.0,>=0.3.58 (from langchain)\n",
      "  Downloading langchain_core-0.3.58-py3-none-any.whl.metadata (5.9 kB)\n",
      "Collecting langchain-text-splitters<1.0.0,>=0.3.8 (from langchain)\n",
      "  Downloading langchain_text_splitters-0.3.8-py3-none-any.whl.metadata (1.9 kB)\n",
      "Collecting langsmith<0.4,>=0.1.17 (from langchain)\n",
      "  Downloading langsmith-0.3.42-py3-none-any.whl.metadata (15 kB)\n",
      "Collecting pydantic<3.0.0,>=2.7.4 (from langchain)\n",
      "  Downloading pydantic-2.11.4-py3-none-any.whl.metadata (66 kB)\n",
      "Collecting SQLAlchemy<3,>=1.4 (from langchain)\n",
      "  Downloading sqlalchemy-2.0.40-cp39-cp39-macosx_11_0_arm64.whl.metadata (9.6 kB)\n",
      "Requirement already satisfied: requests<3,>=2 in /Users/juanfuentesleon/data/lib/python3.9/site-packages (from langchain) (2.32.3)\n",
      "Requirement already satisfied: PyYAML>=5.3 in /Users/juanfuentesleon/data/lib/python3.9/site-packages (from langchain) (6.0.2)\n",
      "Collecting async-timeout<5.0.0,>=4.0.0 (from langchain)\n",
      "  Downloading async_timeout-4.0.3-py3-none-any.whl.metadata (4.2 kB)\n",
      "Collecting tenacity!=8.4.0,<10.0.0,>=8.1.0 (from langchain-core<1.0.0,>=0.3.58->langchain)\n",
      "  Downloading tenacity-9.1.2-py3-none-any.whl.metadata (1.2 kB)\n",
      "Collecting jsonpatch<2.0,>=1.33 (from langchain-core<1.0.0,>=0.3.58->langchain)\n",
      "  Downloading jsonpatch-1.33-py2.py3-none-any.whl.metadata (3.0 kB)\n",
      "Collecting packaging<25,>=23.2 (from langchain-core<1.0.0,>=0.3.58->langchain)\n",
      "  Downloading packaging-24.2-py3-none-any.whl.metadata (3.2 kB)\n",
      "Requirement already satisfied: typing-extensions>=4.7 in /Users/juanfuentesleon/data/lib/python3.9/site-packages (from langchain-core<1.0.0,>=0.3.58->langchain) (4.13.2)\n",
      "Requirement already satisfied: jsonpointer>=1.9 in /Users/juanfuentesleon/data/lib/python3.9/site-packages (from jsonpatch<2.0,>=1.33->langchain-core<1.0.0,>=0.3.58->langchain) (3.0.0)\n",
      "Requirement already satisfied: httpx<1,>=0.23.0 in /Users/juanfuentesleon/data/lib/python3.9/site-packages (from langsmith<0.4,>=0.1.17->langchain) (0.28.1)\n",
      "Collecting orjson<4.0.0,>=3.9.14 (from langsmith<0.4,>=0.1.17->langchain)\n",
      "  Downloading orjson-3.10.18-cp39-cp39-macosx_10_15_x86_64.macosx_11_0_arm64.macosx_10_15_universal2.whl.metadata (41 kB)\n",
      "Collecting requests-toolbelt<2.0.0,>=1.0.0 (from langsmith<0.4,>=0.1.17->langchain)\n",
      "  Downloading requests_toolbelt-1.0.0-py2.py3-none-any.whl.metadata (14 kB)\n",
      "Collecting zstandard<0.24.0,>=0.23.0 (from langsmith<0.4,>=0.1.17->langchain)\n",
      "  Downloading zstandard-0.23.0-cp39-cp39-macosx_11_0_arm64.whl.metadata (3.0 kB)\n",
      "Requirement already satisfied: anyio in /Users/juanfuentesleon/data/lib/python3.9/site-packages (from httpx<1,>=0.23.0->langsmith<0.4,>=0.1.17->langchain) (4.9.0)\n",
      "Requirement already satisfied: certifi in /Users/juanfuentesleon/data/lib/python3.9/site-packages (from httpx<1,>=0.23.0->langsmith<0.4,>=0.1.17->langchain) (2025.4.26)\n",
      "Requirement already satisfied: httpcore==1.* in /Users/juanfuentesleon/data/lib/python3.9/site-packages (from httpx<1,>=0.23.0->langsmith<0.4,>=0.1.17->langchain) (1.0.9)\n",
      "Requirement already satisfied: idna in /Users/juanfuentesleon/data/lib/python3.9/site-packages (from httpx<1,>=0.23.0->langsmith<0.4,>=0.1.17->langchain) (3.10)\n",
      "Requirement already satisfied: h11>=0.16 in /Users/juanfuentesleon/data/lib/python3.9/site-packages (from httpcore==1.*->httpx<1,>=0.23.0->langsmith<0.4,>=0.1.17->langchain) (0.16.0)\n",
      "Collecting annotated-types>=0.6.0 (from pydantic<3.0.0,>=2.7.4->langchain)\n",
      "  Downloading annotated_types-0.7.0-py3-none-any.whl.metadata (15 kB)\n",
      "Collecting pydantic-core==2.33.2 (from pydantic<3.0.0,>=2.7.4->langchain)\n",
      "  Downloading pydantic_core-2.33.2-cp39-cp39-macosx_11_0_arm64.whl.metadata (6.8 kB)\n",
      "Collecting typing-inspection>=0.4.0 (from pydantic<3.0.0,>=2.7.4->langchain)\n",
      "  Downloading typing_inspection-0.4.0-py3-none-any.whl.metadata (2.6 kB)\n",
      "Requirement already satisfied: charset-normalizer<4,>=2 in /Users/juanfuentesleon/data/lib/python3.9/site-packages (from requests<3,>=2->langchain) (3.4.2)\n",
      "Requirement already satisfied: urllib3<3,>=1.21.1 in /Users/juanfuentesleon/data/lib/python3.9/site-packages (from requests<3,>=2->langchain) (2.4.0)\n",
      "Collecting aiohttp<4.0.0,>=3.8.3 (from langchain-community)\n",
      "  Downloading aiohttp-3.11.18-cp39-cp39-macosx_11_0_arm64.whl.metadata (7.7 kB)\n",
      "Collecting dataclasses-json<0.7,>=0.5.7 (from langchain-community)\n",
      "  Downloading dataclasses_json-0.6.7-py3-none-any.whl.metadata (25 kB)\n",
      "Collecting pydantic-settings<3.0.0,>=2.4.0 (from langchain-community)\n",
      "  Downloading pydantic_settings-2.9.1-py3-none-any.whl.metadata (3.8 kB)\n",
      "Collecting httpx-sse<1.0.0,>=0.4.0 (from langchain-community)\n",
      "  Downloading httpx_sse-0.4.0-py3-none-any.whl.metadata (9.0 kB)\n",
      "Collecting aiohappyeyeballs>=2.3.0 (from aiohttp<4.0.0,>=3.8.3->langchain-community)\n",
      "  Downloading aiohappyeyeballs-2.6.1-py3-none-any.whl.metadata (5.9 kB)\n",
      "Collecting aiosignal>=1.1.2 (from aiohttp<4.0.0,>=3.8.3->langchain-community)\n",
      "  Downloading aiosignal-1.3.2-py2.py3-none-any.whl.metadata (3.8 kB)\n",
      "Requirement already satisfied: attrs>=17.3.0 in /Users/juanfuentesleon/data/lib/python3.9/site-packages (from aiohttp<4.0.0,>=3.8.3->langchain-community) (25.3.0)\n",
      "Collecting frozenlist>=1.1.1 (from aiohttp<4.0.0,>=3.8.3->langchain-community)\n",
      "  Downloading frozenlist-1.6.0-cp39-cp39-macosx_11_0_arm64.whl.metadata (16 kB)\n",
      "Collecting multidict<7.0,>=4.5 (from aiohttp<4.0.0,>=3.8.3->langchain-community)\n",
      "  Downloading multidict-6.4.3-cp39-cp39-macosx_11_0_arm64.whl.metadata (5.3 kB)\n",
      "Collecting propcache>=0.2.0 (from aiohttp<4.0.0,>=3.8.3->langchain-community)\n",
      "  Downloading propcache-0.3.1-cp39-cp39-macosx_11_0_arm64.whl.metadata (10 kB)\n",
      "Collecting yarl<2.0,>=1.17.0 (from aiohttp<4.0.0,>=3.8.3->langchain-community)\n",
      "  Downloading yarl-1.20.0-cp39-cp39-macosx_11_0_arm64.whl.metadata (72 kB)\n",
      "Collecting marshmallow<4.0.0,>=3.18.0 (from dataclasses-json<0.7,>=0.5.7->langchain-community)\n",
      "  Downloading marshmallow-3.26.1-py3-none-any.whl.metadata (7.3 kB)\n",
      "Collecting typing-inspect<1,>=0.4.0 (from dataclasses-json<0.7,>=0.5.7->langchain-community)\n",
      "  Downloading typing_inspect-0.9.0-py3-none-any.whl.metadata (1.5 kB)\n",
      "Collecting python-dotenv>=0.21.0 (from pydantic-settings<3.0.0,>=2.4.0->langchain-community)\n",
      "  Downloading python_dotenv-1.1.0-py3-none-any.whl.metadata (24 kB)\n",
      "Collecting mypy-extensions>=0.3.0 (from typing-inspect<1,>=0.4.0->dataclasses-json<0.7,>=0.5.7->langchain-community)\n",
      "  Downloading mypy_extensions-1.1.0-py3-none-any.whl.metadata (1.1 kB)\n",
      "Requirement already satisfied: python-dateutil>=2.8.2 in /Users/juanfuentesleon/data/lib/python3.9/site-packages (from pandas) (2.9.0.post0)\n",
      "Requirement already satisfied: pytz>=2020.1 in /Users/juanfuentesleon/data/lib/python3.9/site-packages (from pandas) (2025.2)\n",
      "Requirement already satisfied: tzdata>=2022.7 in /Users/juanfuentesleon/data/lib/python3.9/site-packages (from pandas) (2025.2)\n",
      "Requirement already satisfied: contourpy>=1.0.1 in /Users/juanfuentesleon/data/lib/python3.9/site-packages (from matplotlib) (1.3.0)\n",
      "Requirement already satisfied: cycler>=0.10 in /Users/juanfuentesleon/data/lib/python3.9/site-packages (from matplotlib) (0.12.1)\n",
      "Requirement already satisfied: fonttools>=4.22.0 in /Users/juanfuentesleon/data/lib/python3.9/site-packages (from matplotlib) (4.57.0)\n",
      "Requirement already satisfied: kiwisolver>=1.3.1 in /Users/juanfuentesleon/data/lib/python3.9/site-packages (from matplotlib) (1.4.7)\n",
      "Requirement already satisfied: pillow>=8 in /Users/juanfuentesleon/data/lib/python3.9/site-packages (from matplotlib) (11.2.1)\n",
      "Requirement already satisfied: pyparsing>=2.3.1 in /Users/juanfuentesleon/data/lib/python3.9/site-packages (from matplotlib) (3.2.3)\n",
      "Requirement already satisfied: importlib-resources>=3.2.0 in /Users/juanfuentesleon/data/lib/python3.9/site-packages (from matplotlib) (6.5.2)\n",
      "Collecting click (from nltk)\n",
      "  Downloading click-8.1.8-py3-none-any.whl.metadata (2.3 kB)\n",
      "Collecting joblib (from nltk)\n",
      "  Downloading joblib-1.5.0-py3-none-any.whl.metadata (5.6 kB)\n",
      "Collecting regex>=2021.8.3 (from nltk)\n",
      "  Downloading regex-2024.11.6-cp39-cp39-macosx_11_0_arm64.whl.metadata (40 kB)\n",
      "Collecting tqdm (from nltk)\n",
      "  Downloading tqdm-4.67.1-py3-none-any.whl.metadata (57 kB)\n",
      "Collecting pyphen (from textstat)\n",
      "  Downloading pyphen-0.17.2-py3-none-any.whl.metadata (3.2 kB)\n",
      "Collecting cmudict (from textstat)\n",
      "  Downloading cmudict-1.0.32-py3-none-any.whl.metadata (3.6 kB)\n",
      "Requirement already satisfied: setuptools in /Users/juanfuentesleon/data/lib/python3.9/site-packages (from textstat) (58.0.4)\n",
      "Requirement already satisfied: zipp>=3.1.0 in /Users/juanfuentesleon/data/lib/python3.9/site-packages (from importlib-resources>=3.2.0->matplotlib) (3.21.0)\n",
      "Requirement already satisfied: six>=1.5 in /Users/juanfuentesleon/data/lib/python3.9/site-packages (from python-dateutil>=2.8.2->pandas) (1.17.0)\n",
      "Requirement already satisfied: exceptiongroup>=1.0.2 in /Users/juanfuentesleon/data/lib/python3.9/site-packages (from anyio->httpx<1,>=0.23.0->langsmith<0.4,>=0.1.17->langchain) (1.2.2)\n",
      "Requirement already satisfied: sniffio>=1.1 in /Users/juanfuentesleon/data/lib/python3.9/site-packages (from anyio->httpx<1,>=0.23.0->langsmith<0.4,>=0.1.17->langchain) (1.3.1)\n",
      "Requirement already satisfied: importlib-metadata>=5 in /Users/juanfuentesleon/data/lib/python3.9/site-packages (from cmudict->textstat) (8.7.0)\n",
      "Downloading langchain-0.3.25-py3-none-any.whl (1.0 MB)\n",
      "\u001b[2K   \u001b[90m━━━━━━━━━━━━━━━━━━━━━━━━━━━━━━━━━━━━━━━━\u001b[0m \u001b[32m1.0/1.0 MB\u001b[0m \u001b[31m10.2 MB/s\u001b[0m eta \u001b[36m0:00:00\u001b[0m\n",
      "\u001b[?25hDownloading async_timeout-4.0.3-py3-none-any.whl (5.7 kB)\n",
      "Downloading langchain_core-0.3.58-py3-none-any.whl (437 kB)\n",
      "Downloading jsonpatch-1.33-py2.py3-none-any.whl (12 kB)\n",
      "Downloading langchain_text_splitters-0.3.8-py3-none-any.whl (32 kB)\n",
      "Downloading langsmith-0.3.42-py3-none-any.whl (360 kB)\n",
      "Downloading orjson-3.10.18-cp39-cp39-macosx_10_15_x86_64.macosx_11_0_arm64.macosx_10_15_universal2.whl (249 kB)\n",
      "Downloading packaging-24.2-py3-none-any.whl (65 kB)\n",
      "Downloading pydantic-2.11.4-py3-none-any.whl (443 kB)\n",
      "Downloading pydantic_core-2.33.2-cp39-cp39-macosx_11_0_arm64.whl (1.9 MB)\n",
      "\u001b[2K   \u001b[90m━━━━━━━━━━━━━━━━━━━━━━━━━━━━━━━━━━━━━━━━\u001b[0m \u001b[32m1.9/1.9 MB\u001b[0m \u001b[31m25.4 MB/s\u001b[0m eta \u001b[36m0:00:00\u001b[0m\n",
      "\u001b[?25hDownloading requests_toolbelt-1.0.0-py2.py3-none-any.whl (54 kB)\n",
      "Downloading sqlalchemy-2.0.40-cp39-cp39-macosx_11_0_arm64.whl (2.1 MB)\n",
      "\u001b[2K   \u001b[90m━━━━━━━━━━━━━━━━━━━━━━━━━━━━━━━━━━━━━━━━\u001b[0m \u001b[32m2.1/2.1 MB\u001b[0m \u001b[31m54.4 MB/s\u001b[0m eta \u001b[36m0:00:00\u001b[0m\n",
      "\u001b[?25hDownloading tenacity-9.1.2-py3-none-any.whl (28 kB)\n",
      "Downloading zstandard-0.23.0-cp39-cp39-macosx_11_0_arm64.whl (633 kB)\n",
      "\u001b[2K   \u001b[90m━━━━━━━━━━━━━━━━━━━━━━━━━━━━━━━━━━━━━━━━\u001b[0m \u001b[32m633.7/633.7 kB\u001b[0m \u001b[31m22.8 MB/s\u001b[0m eta \u001b[36m0:00:00\u001b[0m\n",
      "\u001b[?25hDownloading langchain_community-0.3.23-py3-none-any.whl (2.5 MB)\n",
      "\u001b[2K   \u001b[90m━━━━━━━━━━━━━━━━━━━━━━━━━━━━━━━━━━━━━━━━\u001b[0m \u001b[32m2.5/2.5 MB\u001b[0m \u001b[31m57.0 MB/s\u001b[0m eta \u001b[36m0:00:00\u001b[0m\n",
      "\u001b[?25hDownloading aiohttp-3.11.18-cp39-cp39-macosx_11_0_arm64.whl (457 kB)\n",
      "Downloading dataclasses_json-0.6.7-py3-none-any.whl (28 kB)\n",
      "Downloading httpx_sse-0.4.0-py3-none-any.whl (7.8 kB)\n",
      "Downloading marshmallow-3.26.1-py3-none-any.whl (50 kB)\n",
      "Downloading multidict-6.4.3-cp39-cp39-macosx_11_0_arm64.whl (37 kB)\n",
      "Downloading pydantic_settings-2.9.1-py3-none-any.whl (44 kB)\n",
      "Downloading typing_inspect-0.9.0-py3-none-any.whl (8.8 kB)\n",
      "Downloading yarl-1.20.0-cp39-cp39-macosx_11_0_arm64.whl (95 kB)\n",
      "Downloading seaborn-0.13.2-py3-none-any.whl (294 kB)\n",
      "Downloading nltk-3.9.1-py3-none-any.whl (1.5 MB)\n",
      "\u001b[2K   \u001b[90m━━━━━━━━━━━━━━━━━━━━━━━━━━━━━━━━━━━━━━━━\u001b[0m \u001b[32m1.5/1.5 MB\u001b[0m \u001b[31m54.0 MB/s\u001b[0m eta \u001b[36m0:00:00\u001b[0m\n",
      "\u001b[?25hDownloading textstat-0.7.5-py3-none-any.whl (105 kB)\n",
      "Downloading aiohappyeyeballs-2.6.1-py3-none-any.whl (15 kB)\n",
      "Downloading aiosignal-1.3.2-py2.py3-none-any.whl (7.6 kB)\n",
      "Downloading annotated_types-0.7.0-py3-none-any.whl (13 kB)\n",
      "Downloading frozenlist-1.6.0-cp39-cp39-macosx_11_0_arm64.whl (122 kB)\n",
      "Downloading mypy_extensions-1.1.0-py3-none-any.whl (5.0 kB)\n",
      "Downloading propcache-0.3.1-cp39-cp39-macosx_11_0_arm64.whl (46 kB)\n",
      "Downloading python_dotenv-1.1.0-py3-none-any.whl (20 kB)\n",
      "Downloading regex-2024.11.6-cp39-cp39-macosx_11_0_arm64.whl (284 kB)\n",
      "Downloading typing_inspection-0.4.0-py3-none-any.whl (14 kB)\n",
      "Downloading click-8.1.8-py3-none-any.whl (98 kB)\n",
      "Downloading cmudict-1.0.32-py3-none-any.whl (939 kB)\n",
      "\u001b[2K   \u001b[90m━━━━━━━━━━━━━━━━━━━━━━━━━━━━━━━━━━━━━━━━\u001b[0m \u001b[32m939.4/939.4 kB\u001b[0m \u001b[31m33.9 MB/s\u001b[0m eta \u001b[36m0:00:00\u001b[0m\n",
      "\u001b[?25hDownloading joblib-1.5.0-py3-none-any.whl (307 kB)\n",
      "Downloading pyphen-0.17.2-py3-none-any.whl (2.1 MB)\n",
      "\u001b[2K   \u001b[90m━━━━━━━━━━━━━━━━━━━━━━━━━━━━━━━━━━━━━━━━\u001b[0m \u001b[32m2.1/2.1 MB\u001b[0m \u001b[31m58.5 MB/s\u001b[0m eta \u001b[36m0:00:00\u001b[0m\n",
      "\u001b[?25hDownloading tqdm-4.67.1-py3-none-any.whl (78 kB)\n",
      "Installing collected packages: zstandard, typing-inspection, tqdm, tenacity, SQLAlchemy, regex, python-dotenv, pyphen, pydantic-core, propcache, packaging, orjson, mypy-extensions, multidict, jsonpatch, joblib, httpx-sse, frozenlist, click, async-timeout, annotated-types, aiohappyeyeballs, yarl, typing-inspect, requests-toolbelt, pydantic, nltk, marshmallow, cmudict, aiosignal, textstat, seaborn, pydantic-settings, langsmith, dataclasses-json, aiohttp, langchain-core, langchain-text-splitters, langchain, langchain-community\n",
      "\u001b[2K  Attempting uninstall: packagingm━━━━━━━━━━━━━━━━━━━━━━━━━━━━━━━━\u001b[0m \u001b[32m 7/40\u001b[0m [pyphen]emy]\n",
      "\u001b[2K    Found existing installation: packaging 25.0━━━━━━━━━━━━━━━\u001b[0m \u001b[32m 7/40\u001b[0m [pyphen]\n",
      "\u001b[2K    Uninstalling packaging-25.0:━━━━━━━━━━━━━━━━━━━━━━━━━━━━━━\u001b[0m \u001b[32m 7/40\u001b[0m [pyphen]\n",
      "\u001b[2K      Successfully uninstalled packaging-25.0━━━━━━━━━━━━━━━━━\u001b[0m \u001b[32m 7/40\u001b[0m [pyphen]\n",
      "\u001b[2K   \u001b[90m━━━━━━━━━━━━━━━━━━━━━━━━━━━━━━━━━━━━━━━━\u001b[0m \u001b[32m40/40\u001b[0m [langchain-community]ommunity]ore]]\n",
      "\u001b[1A\u001b[2KSuccessfully installed SQLAlchemy-2.0.40 aiohappyeyeballs-2.6.1 aiohttp-3.11.18 aiosignal-1.3.2 annotated-types-0.7.0 async-timeout-4.0.3 click-8.1.8 cmudict-1.0.32 dataclasses-json-0.6.7 frozenlist-1.6.0 httpx-sse-0.4.0 joblib-1.5.0 jsonpatch-1.33 langchain-0.3.25 langchain-community-0.3.23 langchain-core-0.3.58 langchain-text-splitters-0.3.8 langsmith-0.3.42 marshmallow-3.26.1 multidict-6.4.3 mypy-extensions-1.1.0 nltk-3.9.1 orjson-3.10.18 packaging-24.2 propcache-0.3.1 pydantic-2.11.4 pydantic-core-2.33.2 pydantic-settings-2.9.1 pyphen-0.17.2 python-dotenv-1.1.0 regex-2024.11.6 requests-toolbelt-1.0.0 seaborn-0.13.2 tenacity-9.1.2 textstat-0.7.5 tqdm-4.67.1 typing-inspect-0.9.0 typing-inspection-0.4.0 yarl-1.20.0 zstandard-0.23.0\n"
     ]
    }
   ],
   "source": [
    "!pip install langchain langchain-community pandas numpy matplotlib seaborn nltk textstat"
   ]
  },
  {
   "cell_type": "markdown",
   "id": "064032e4-375e-4226-8327-297344515b0f",
   "metadata": {},
   "source": [
    "### Import needed Libraries"
   ]
  },
  {
   "cell_type": "code",
   "execution_count": 2,
   "id": "6c8f0087-259f-4b81-8d55-bf82f09bb4f5",
   "metadata": {},
   "outputs": [
    {
     "name": "stderr",
     "output_type": "stream",
     "text": [
      "/Users/juanfuentesleon/data/lib/python3.9/site-packages/urllib3/__init__.py:35: NotOpenSSLWarning: urllib3 v2 only supports OpenSSL 1.1.1+, currently the 'ssl' module is compiled with 'LibreSSL 2.8.3'. See: https://github.com/urllib3/urllib3/issues/3020\n",
      "  warnings.warn(\n",
      "USER_AGENT environment variable not set, consider setting it to identify your requests.\n",
      "[nltk_data] Downloading package stopwords to\n",
      "[nltk_data]     /Users/juanfuentesleon/nltk_data...\n",
      "[nltk_data]   Unzipping corpora/stopwords.zip.\n",
      "[nltk_data] Downloading package punkt to\n",
      "[nltk_data]     /Users/juanfuentesleon/nltk_data...\n",
      "[nltk_data]   Unzipping tokenizers/punkt.zip.\n"
     ]
    }
   ],
   "source": [
    "import pandas as pd\n",
    "from langchain.document_loaders import WebBaseLoader\n",
    "from langchain.text_splitter import RecursiveCharacterTextSplitter\n",
    "from langchain.docstore.document import Document\n",
    "import matplotlib.pyplot as plt\n",
    "import seaborn as sns\n",
    "import nltk\n",
    "# Download the needed nltk corpus \n",
    "nltk.download('stopwords')\n",
    "nltk.download('punkt')\n",
    "from nltk.tokenize import word_tokenize\n",
    "from nltk.corpus import stopwords\n",
    "from collections import Counter\n",
    "import textstat\n",
    "import re"
   ]
  },
  {
   "cell_type": "markdown",
   "id": "8ce19dc6-f027-4ee1-98d5-273614da32c9",
   "metadata": {},
   "source": [
    "## Convert Excel Spreadsheet to pandas Data Frame"
   ]
  },
  {
   "cell_type": "code",
   "execution_count": 5,
   "id": "f4c99602-823d-4af0-98fa-789c3870c4b7",
   "metadata": {},
   "outputs": [
    {
     "name": "stdout",
     "output_type": "stream",
     "text": [
      "Shape:  (496, 6)\n"
     ]
    },
    {
     "data": {
      "text/html": [
       "<div>\n",
       "<style scoped>\n",
       "    .dataframe tbody tr th:only-of-type {\n",
       "        vertical-align: middle;\n",
       "    }\n",
       "\n",
       "    .dataframe tbody tr th {\n",
       "        vertical-align: top;\n",
       "    }\n",
       "\n",
       "    .dataframe thead th {\n",
       "        text-align: right;\n",
       "    }\n",
       "</style>\n",
       "<table border=\"1\" class=\"dataframe\">\n",
       "  <thead>\n",
       "    <tr style=\"text-align: right;\">\n",
       "      <th></th>\n",
       "      <th>URL</th>\n",
       "      <th>1st Level</th>\n",
       "      <th>2nd Level</th>\n",
       "      <th>3rd Level</th>\n",
       "      <th>4th Level</th>\n",
       "      <th>Lens</th>\n",
       "    </tr>\n",
       "  </thead>\n",
       "  <tbody>\n",
       "    <tr>\n",
       "      <th>0</th>\n",
       "      <td>https://docs.aws.amazon.com/wellarchitected/la...</td>\n",
       "      <td>Abstract and Introducción</td>\n",
       "      <td>NaN</td>\n",
       "      <td>NaN</td>\n",
       "      <td>NaN</td>\n",
       "      <td>Serverless Applications</td>\n",
       "    </tr>\n",
       "    <tr>\n",
       "      <th>1</th>\n",
       "      <td>https://docs.aws.amazon.com/wellarchitected/la...</td>\n",
       "      <td>Definitions</td>\n",
       "      <td>NaN</td>\n",
       "      <td>NaN</td>\n",
       "      <td>NaN</td>\n",
       "      <td>Serverless Applications</td>\n",
       "    </tr>\n",
       "    <tr>\n",
       "      <th>2</th>\n",
       "      <td>https://docs.aws.amazon.com/wellarchitected/la...</td>\n",
       "      <td>Definitions</td>\n",
       "      <td>Compute Layers</td>\n",
       "      <td>NaN</td>\n",
       "      <td>NaN</td>\n",
       "      <td>Serverless Applications</td>\n",
       "    </tr>\n",
       "    <tr>\n",
       "      <th>3</th>\n",
       "      <td>https://docs.aws.amazon.com/wellarchitected/la...</td>\n",
       "      <td>Definitions</td>\n",
       "      <td>Data Layer</td>\n",
       "      <td>NaN</td>\n",
       "      <td>NaN</td>\n",
       "      <td>Serverless Applications</td>\n",
       "    </tr>\n",
       "    <tr>\n",
       "      <th>4</th>\n",
       "      <td>https://docs.aws.amazon.com/wellarchitected/la...</td>\n",
       "      <td>Definitions</td>\n",
       "      <td>Messaging and streaming layer</td>\n",
       "      <td>NaN</td>\n",
       "      <td>NaN</td>\n",
       "      <td>Serverless Applications</td>\n",
       "    </tr>\n",
       "  </tbody>\n",
       "</table>\n",
       "</div>"
      ],
      "text/plain": [
       "                                                 URL  \\\n",
       "0  https://docs.aws.amazon.com/wellarchitected/la...   \n",
       "1  https://docs.aws.amazon.com/wellarchitected/la...   \n",
       "2  https://docs.aws.amazon.com/wellarchitected/la...   \n",
       "3  https://docs.aws.amazon.com/wellarchitected/la...   \n",
       "4  https://docs.aws.amazon.com/wellarchitected/la...   \n",
       "\n",
       "                    1st Level                      2nd Level 3rd Level  \\\n",
       "0  Abstract and Introducción                             NaN       NaN   \n",
       "1                 Definitions                            NaN       NaN   \n",
       "2                 Definitions                 Compute Layers       NaN   \n",
       "3                 Definitions                     Data Layer       NaN   \n",
       "4                 Definitions  Messaging and streaming layer       NaN   \n",
       "\n",
       "  4th Level                     Lens  \n",
       "0       NaN  Serverless Applications  \n",
       "1       NaN  Serverless Applications  \n",
       "2       NaN  Serverless Applications  \n",
       "3       NaN  Serverless Applications  \n",
       "4       NaN  Serverless Applications  "
      ]
     },
     "execution_count": 5,
     "metadata": {},
     "output_type": "execute_result"
    }
   ],
   "source": [
    "# Read Excel containig List of URL's with Architectural Pattern and Metadata.\n",
    "url_df = pd.read_excel(\"./URLs.xlsx\", sheet_name=\"Sheet1\")\n",
    "# Show shape of DataFrame\n",
    "print(\"Shape: \",url_df.shape)\n",
    "# Show the Format of the Data Frame\n",
    "url_df.head()"
   ]
  },
  {
   "cell_type": "markdown",
   "id": "d01ee033-a15c-42ca-aa55-3994bd2e779d",
   "metadata": {},
   "source": [
    "The data frame shows multiple links where the data is stored. The number of links can be seen in the data frame's shape; we have a total of X links.\n",
    "\n",
    "To obtain additional metadata for each link, we created a structure that includes the name of the AWS Well-Architected Lens in the \"Lens\" column, and its subsections in the \"1st Level,\" \"2nd Level,\" \"3rd Level,\" and \"4th Level\" columns. If a link points to information at an upper level, the lower-level columns will display NaN."
   ]
  },
  {
   "cell_type": "markdown",
   "id": "19685ad0-762e-4f84-80ad-d74cde875399",
   "metadata": {},
   "source": [
    "## Read each link and store the Data in correct Format"
   ]
  },
  {
   "cell_type": "markdown",
   "id": "34b946e7-c5b4-411f-90f9-8e444adcdb5a",
   "metadata": {},
   "source": [
    "### Create Function to add Level to metadata"
   ]
  },
  {
   "cell_type": "code",
   "execution_count": 6,
   "id": "d24d8d61-3f43-4701-91d8-6151c50fa477",
   "metadata": {},
   "outputs": [],
   "source": [
    "# We create a function to validate if a level exist in a row of the dataframe\n",
    "def createMetadataLevel(level,url_line,metadata):\n",
    "    #Validate if the Level is enot empty\n",
    "    if(not pd.isna(url_line[level])):\n",
    "        #If level is not empty add the level to the metadata\n",
    "        metadata[level]=url_line[level]\n",
    "    #Return the modified metadata.\n",
    "    return metadata"
   ]
  },
  {
   "cell_type": "markdown",
   "id": "e171fbf3-19d8-441f-8f8c-8a7ba4353ba6",
   "metadata": {},
   "source": [
    "### Create function to load the URL with the extra metadata."
   ]
  },
  {
   "cell_type": "code",
   "execution_count": 7,
   "id": "cffd536b-d385-4e49-8ff9-7df51d70c51f",
   "metadata": {},
   "outputs": [],
   "source": [
    "def loadURLWithMetaData(url_line):\n",
    "    # We define the loader, which will read the information in the URL's leveraging the langchain library.\n",
    "    loader = WebBaseLoader(\n",
    "        # We say, which URL will be read and loaded.\n",
    "        url_line[\"URL\"],\n",
    "    )\n",
    "    # We will read the URL and get different documents from all the paragraphs.\n",
    "    docs = loader.load()\n",
    "    # We define all the metadata to add to the docs read from this page\n",
    "    metadata = {\n",
    "        \"Lens\": url_line[\"Lens\"],\n",
    "        \"1st Level\": url_line[\"1st Level\"]\n",
    "    }\n",
    "    # Add all levels of metadata, validating the level exists.\n",
    "    metadata = createMetadataLevel(\"2nd Level\",url_line,metadata)\n",
    "    metadata = createMetadataLevel(\"3rd Level\",url_line,metadata)\n",
    "    metadata = createMetadataLevel(\"4th Level\",url_line,metadata)\n",
    "\n",
    "    for doc in docs:\n",
    "        doc.metadata.update(metadata)\n",
    "\n",
    "    return docs\n",
    "        \n",
    "    "
   ]
  },
  {
   "cell_type": "markdown",
   "id": "47c51c4d-3a82-47a2-9041-4efe8c7c9499",
   "metadata": {},
   "source": [
    "### Cycle trough all URL's in the list and load them"
   ]
  },
  {
   "cell_type": "code",
   "execution_count": 8,
   "id": "c06a3735-27bd-4e62-9500-cf4ccfdcaf7b",
   "metadata": {},
   "outputs": [
    {
     "name": "stdout",
     "output_type": "stream",
     "text": [
      "This is a sample of the content extracted from the URL's page_content='\n",
      "Serverless Applications Lens - AWS Well-Architected Framework - Serverless Applications LensServerless Applications Lens - AWS Well-Architected Framework - Serverless Applications LensDocumentationAWS Well-ArchitectedAWS Well-Architected FrameworkIntroductionCustom lens availabilityServerless Applications Lens - AWS Well-Architected FrameworkPublication date: July 14, 2022 (Document revisions)\n",
      "    This document describes the Serverless Applications Lens for\n",
      "    the AWS\n",
      "      Well-Architected Framework. The document covers common\n",
      "    serverless applications scenarios and identifies key elements to\n",
      "    ensure that your workloads are architected according to best\n",
      "    practices.\n",
      "  \n",
      "Introduction\n",
      "\n",
      "      The AWS Well-Architected Framework helps you understand the pros and\n",
      "      cons of decisions you make while building systems on AWS. By using\n",
      "      the Framework, you will learn architectural best practices for\n",
      "      designing and operating reliable, secure, efficient, and\n",
      "      cost-effective systems in the cloud. It provides a way for you to\n",
      "      consistently measure your architectures against best practices and\n",
      "      identify areas for improvement. We believe that having\n",
      "      well-architected systems greatly increases the likelihood of\n",
      "      business success.\n",
      "    \n",
      " In this Lens we focus on how to design, deploy, and architect your serverless application\n",
      "      workloads in the AWS Cloud. For brevity, we have only covered details from the\n",
      "      Well-Architected Framework that are specific to serverless workloads. You should still\n",
      "      consider best practices and questions that have not been included in this document when\n",
      "      designing your architecture. We recommend that you read the AWS Well-Architected\n",
      "      Framework whitepaper. \n",
      " This document is intended for those in technology roles, such as Chief Technology\n",
      "      Officers (CTOs), architects, developers, and operations team members. After reading this\n",
      "      document, you will understand AWS best practices and strategies to use when designing\n",
      "      architectures for serverless applications. \n",
      "Custom lens availability\n",
      "Custom lenses extend the best practice guidance provided by AWS Well-Architected Tool. AWS WA Tool allows you to\n",
      "      create your own custom lenses, or to use\n",
      "      lenses created by others that have been shared with you.\n",
      "To determine if a custom lens is available for the lens described in this whitepaper,\n",
      "      reach out to your Technical Account Manager (TAM), Solutions Architect (SA), or Support.\n",
      " Javascript is disabled or is unavailable in your browser.To use the Amazon Web Services Documentation, Javascript must be enabled. Please refer to your browser's Help pages for instructions.Document ConventionsDefinitionsDid this page help you? - YesThanks for letting us know we're doing a good job!If you've got a moment, please tell us what we did right so we can do more of it.Did this page help you? - NoThanks for letting us know this page needs work. We're sorry we let you down.If you've got a moment, please tell us how we can make the documentation better.' metadata={'source': 'https://docs.aws.amazon.com/wellarchitected/latest/serverless-applications-lens/welcome.html', 'title': 'Serverless Applications Lens - AWS Well-Architected Framework - Serverless Applications Lens', 'description': 'This document describes the Serverless Applications Lens for the AWS Well-Architected Framework. The document covers common serverless applications scenarios and identifies key elements to ensure that your workloads are architected according to best practices.', 'language': 'en-US', 'Lens': 'Serverless Applications', '1st Level': 'Abstract and Introducción '}\n"
     ]
    }
   ],
   "source": [
    "#Define Variable to store all information extracted from the URL's with the metadata.\n",
    "all_docs = []\n",
    "#Cycle trough all URL's to load them as text and add the desired metadata.\n",
    "for index, row in url_df.iterrows():\n",
    "    #Read the content of the URL, add it to the list with it's needed metadata in the propper format, to be able to process it later.\n",
    "    all_docs.extend(loadURLWithMetaData(row))\n",
    "print(\"This is a sample of the content extracted from the URL's\", all_docs[0])"
   ]
  },
  {
   "cell_type": "markdown",
   "id": "e4da13ec-db54-4fe6-a562-5791a8f7fda3",
   "metadata": {},
   "source": [
    "## Convert docs into data frame to perform some discoveries"
   ]
  },
  {
   "cell_type": "code",
   "execution_count": 9,
   "id": "ef7fed7a-ed17-4912-8766-69a7a9937243",
   "metadata": {},
   "outputs": [],
   "source": [
    "#Define Function to convert documents into dataframe\n",
    "def create_dataframe_from_documents(documents):\n",
    "    # declare variable to store the data\n",
    "    data = []\n",
    "    # declare variable to store the metadata\n",
    "    for doc in documents:\n",
    "        # define the row as a dictionary from the content\n",
    "        row = {\"page_content\": doc.page_content}\n",
    "        # Add the metadata to the row\n",
    "        row.update(doc.metadata)\n",
    "        # Add the row to the list of data\n",
    "        data.append(row)\n",
    "    # Return the data frame of all docs\n",
    "    return pd.DataFrame(data)"
   ]
  },
  {
   "cell_type": "markdown",
   "id": "22e8c001-88f0-4324-a417-03efced89a31",
   "metadata": {},
   "source": [
    "### Call function to convert all documents to a dataframe"
   ]
  },
  {
   "cell_type": "code",
   "execution_count": 10,
   "id": "d694c653-0b56-4f99-a475-2cfc31f8d506",
   "metadata": {},
   "outputs": [],
   "source": [
    "df_from_docs = create_dataframe_from_documents(all_docs)"
   ]
  },
  {
   "cell_type": "markdown",
   "id": "22a93e7d-58d1-4deb-8aaf-71e5566041b1",
   "metadata": {},
   "source": [
    "## EDA"
   ]
  },
  {
   "cell_type": "markdown",
   "id": "1218d6f0-9c90-45be-81bc-7419a722ddde",
   "metadata": {},
   "source": [
    "### Review dataframe general data"
   ]
  },
  {
   "cell_type": "markdown",
   "id": "91ad2b15-460b-4e44-b115-1bcf4a800228",
   "metadata": {},
   "source": [
    "#### Review 5 first values of data frame"
   ]
  },
  {
   "cell_type": "code",
   "execution_count": 11,
   "id": "2c6f9e52-c649-4f23-abdc-be354bcfa471",
   "metadata": {},
   "outputs": [
    {
     "data": {
      "text/html": [
       "<div>\n",
       "<style scoped>\n",
       "    .dataframe tbody tr th:only-of-type {\n",
       "        vertical-align: middle;\n",
       "    }\n",
       "\n",
       "    .dataframe tbody tr th {\n",
       "        vertical-align: top;\n",
       "    }\n",
       "\n",
       "    .dataframe thead th {\n",
       "        text-align: right;\n",
       "    }\n",
       "</style>\n",
       "<table border=\"1\" class=\"dataframe\">\n",
       "  <thead>\n",
       "    <tr style=\"text-align: right;\">\n",
       "      <th></th>\n",
       "      <th>page_content</th>\n",
       "      <th>source</th>\n",
       "      <th>title</th>\n",
       "      <th>description</th>\n",
       "      <th>language</th>\n",
       "      <th>Lens</th>\n",
       "      <th>1st Level</th>\n",
       "      <th>2nd Level</th>\n",
       "      <th>3rd Level</th>\n",
       "      <th>4th Level</th>\n",
       "    </tr>\n",
       "  </thead>\n",
       "  <tbody>\n",
       "    <tr>\n",
       "      <th>0</th>\n",
       "      <td>\\nServerless Applications Lens - AWS Well-Arch...</td>\n",
       "      <td>https://docs.aws.amazon.com/wellarchitected/la...</td>\n",
       "      <td>Serverless Applications Lens - AWS Well-Archit...</td>\n",
       "      <td>This document describes the Serverless Applica...</td>\n",
       "      <td>en-US</td>\n",
       "      <td>Serverless Applications</td>\n",
       "      <td>Abstract and Introducción</td>\n",
       "      <td>NaN</td>\n",
       "      <td>NaN</td>\n",
       "      <td>NaN</td>\n",
       "    </tr>\n",
       "    <tr>\n",
       "      <th>1</th>\n",
       "      <td>\\nDefinitions - Serverless Applications LensDe...</td>\n",
       "      <td>https://docs.aws.amazon.com/wellarchitected/la...</td>\n",
       "      <td>Definitions - Serverless Applications Lens</td>\n",
       "      <td>The AWS Well-Architected Framework is based on...</td>\n",
       "      <td>en-US</td>\n",
       "      <td>Serverless Applications</td>\n",
       "      <td>Definitions</td>\n",
       "      <td>NaN</td>\n",
       "      <td>NaN</td>\n",
       "      <td>NaN</td>\n",
       "    </tr>\n",
       "    <tr>\n",
       "      <th>2</th>\n",
       "      <td>\\nCompute layer - Serverless Applications Lens...</td>\n",
       "      <td>https://docs.aws.amazon.com/wellarchitected/la...</td>\n",
       "      <td>Compute layer - Serverless Applications Lens</td>\n",
       "      <td>The compute layer of your workload manages req...</td>\n",
       "      <td>en-US</td>\n",
       "      <td>Serverless Applications</td>\n",
       "      <td>Definitions</td>\n",
       "      <td>Compute Layers</td>\n",
       "      <td>NaN</td>\n",
       "      <td>NaN</td>\n",
       "    </tr>\n",
       "    <tr>\n",
       "      <th>3</th>\n",
       "      <td>\\nData layer - Serverless Applications LensDat...</td>\n",
       "      <td>https://docs.aws.amazon.com/wellarchitected/la...</td>\n",
       "      <td>Data layer - Serverless Applications Lens</td>\n",
       "      <td>The data layer of your workload manages persis...</td>\n",
       "      <td>en-US</td>\n",
       "      <td>Serverless Applications</td>\n",
       "      <td>Definitions</td>\n",
       "      <td>Data Layer</td>\n",
       "      <td>NaN</td>\n",
       "      <td>NaN</td>\n",
       "    </tr>\n",
       "    <tr>\n",
       "      <th>4</th>\n",
       "      <td>\\nMessaging and streaming layer - Serverless A...</td>\n",
       "      <td>https://docs.aws.amazon.com/wellarchitected/la...</td>\n",
       "      <td>Messaging and streaming layer - Serverless App...</td>\n",
       "      <td>The messaging layer of your workload manages c...</td>\n",
       "      <td>en-US</td>\n",
       "      <td>Serverless Applications</td>\n",
       "      <td>Definitions</td>\n",
       "      <td>Messaging and streaming layer</td>\n",
       "      <td>NaN</td>\n",
       "      <td>NaN</td>\n",
       "    </tr>\n",
       "  </tbody>\n",
       "</table>\n",
       "</div>"
      ],
      "text/plain": [
       "                                        page_content  \\\n",
       "0  \\nServerless Applications Lens - AWS Well-Arch...   \n",
       "1  \\nDefinitions - Serverless Applications LensDe...   \n",
       "2  \\nCompute layer - Serverless Applications Lens...   \n",
       "3  \\nData layer - Serverless Applications LensDat...   \n",
       "4  \\nMessaging and streaming layer - Serverless A...   \n",
       "\n",
       "                                              source  \\\n",
       "0  https://docs.aws.amazon.com/wellarchitected/la...   \n",
       "1  https://docs.aws.amazon.com/wellarchitected/la...   \n",
       "2  https://docs.aws.amazon.com/wellarchitected/la...   \n",
       "3  https://docs.aws.amazon.com/wellarchitected/la...   \n",
       "4  https://docs.aws.amazon.com/wellarchitected/la...   \n",
       "\n",
       "                                               title  \\\n",
       "0  Serverless Applications Lens - AWS Well-Archit...   \n",
       "1         Definitions - Serverless Applications Lens   \n",
       "2       Compute layer - Serverless Applications Lens   \n",
       "3          Data layer - Serverless Applications Lens   \n",
       "4  Messaging and streaming layer - Serverless App...   \n",
       "\n",
       "                                         description language  \\\n",
       "0  This document describes the Serverless Applica...    en-US   \n",
       "1  The AWS Well-Architected Framework is based on...    en-US   \n",
       "2  The compute layer of your workload manages req...    en-US   \n",
       "3  The data layer of your workload manages persis...    en-US   \n",
       "4  The messaging layer of your workload manages c...    en-US   \n",
       "\n",
       "                      Lens                   1st Level  \\\n",
       "0  Serverless Applications  Abstract and Introducción    \n",
       "1  Serverless Applications                 Definitions   \n",
       "2  Serverless Applications                 Definitions   \n",
       "3  Serverless Applications                 Definitions   \n",
       "4  Serverless Applications                 Definitions   \n",
       "\n",
       "                       2nd Level 3rd Level 4th Level  \n",
       "0                            NaN       NaN       NaN  \n",
       "1                            NaN       NaN       NaN  \n",
       "2                 Compute Layers       NaN       NaN  \n",
       "3                     Data Layer       NaN       NaN  \n",
       "4  Messaging and streaming layer       NaN       NaN  "
      ]
     },
     "execution_count": 11,
     "metadata": {},
     "output_type": "execute_result"
    }
   ],
   "source": [
    "df_from_docs.head()"
   ]
  },
  {
   "cell_type": "markdown",
   "id": "496f5a21-7def-4011-a6d9-c7b344dc9834",
   "metadata": {},
   "source": [
    "#### Review last 5 Values of the data frame"
   ]
  },
  {
   "cell_type": "code",
   "execution_count": 12,
   "id": "c5ac18db-ccf2-4f12-87aa-4011ab7fcda2",
   "metadata": {},
   "outputs": [
    {
     "data": {
      "text/html": [
       "<div>\n",
       "<style scoped>\n",
       "    .dataframe tbody tr th:only-of-type {\n",
       "        vertical-align: middle;\n",
       "    }\n",
       "\n",
       "    .dataframe tbody tr th {\n",
       "        vertical-align: top;\n",
       "    }\n",
       "\n",
       "    .dataframe thead th {\n",
       "        text-align: right;\n",
       "    }\n",
       "</style>\n",
       "<table border=\"1\" class=\"dataframe\">\n",
       "  <thead>\n",
       "    <tr style=\"text-align: right;\">\n",
       "      <th></th>\n",
       "      <th>page_content</th>\n",
       "      <th>source</th>\n",
       "      <th>title</th>\n",
       "      <th>description</th>\n",
       "      <th>language</th>\n",
       "      <th>Lens</th>\n",
       "      <th>1st Level</th>\n",
       "      <th>2nd Level</th>\n",
       "      <th>3rd Level</th>\n",
       "      <th>4th Level</th>\n",
       "    </tr>\n",
       "  </thead>\n",
       "  <tbody>\n",
       "    <tr>\n",
       "      <th>491</th>\n",
       "      <td>\\nDocument history - Machine Learning LensDocu...</td>\n",
       "      <td>https://docs.aws.amazon.com/wellarchitected/la...</td>\n",
       "      <td>Document history - Machine Learning Lens</td>\n",
       "      <td>Document history</td>\n",
       "      <td>en-US</td>\n",
       "      <td>Machine Learning Lens</td>\n",
       "      <td>Document history</td>\n",
       "      <td>NaN</td>\n",
       "      <td>NaN</td>\n",
       "      <td>NaN</td>\n",
       "    </tr>\n",
       "    <tr>\n",
       "      <th>492</th>\n",
       "      <td>\\nBest practices arranged by pillar - Machine ...</td>\n",
       "      <td>https://docs.aws.amazon.com/wellarchitected/la...</td>\n",
       "      <td>Best practices arranged by pillar - Machine Le...</td>\n",
       "      <td>These are all of the best practices outlined i...</td>\n",
       "      <td>en-US</td>\n",
       "      <td>Machine Learning Lens</td>\n",
       "      <td>Best practices arranged by pillar</td>\n",
       "      <td>NaN</td>\n",
       "      <td>NaN</td>\n",
       "      <td>NaN</td>\n",
       "    </tr>\n",
       "    <tr>\n",
       "      <th>493</th>\n",
       "      <td>\\nBest practices by ML lifecycle phase - Machi...</td>\n",
       "      <td>https://docs.aws.amazon.com/wellarchitected/la...</td>\n",
       "      <td>Best practices by ML lifecycle phase - Machine...</td>\n",
       "      <td>There are six phases in the machine learning l...</td>\n",
       "      <td>en-US</td>\n",
       "      <td>Machine Learning Lens</td>\n",
       "      <td>Best practices by ML lifecycle phase</td>\n",
       "      <td>NaN</td>\n",
       "      <td>NaN</td>\n",
       "      <td>NaN</td>\n",
       "    </tr>\n",
       "    <tr>\n",
       "      <th>494</th>\n",
       "      <td>\\nNotices - Machine Learning LensNotices - Mac...</td>\n",
       "      <td>https://docs.aws.amazon.com/wellarchitected/la...</td>\n",
       "      <td>Notices - Machine Learning Lens</td>\n",
       "      <td>Notices</td>\n",
       "      <td>en-US</td>\n",
       "      <td>Machine Learning Lens</td>\n",
       "      <td>Notices</td>\n",
       "      <td>NaN</td>\n",
       "      <td>NaN</td>\n",
       "      <td>NaN</td>\n",
       "    </tr>\n",
       "    <tr>\n",
       "      <th>495</th>\n",
       "      <td>\\nAWS Glossary - Machine Learning LensAWS Glos...</td>\n",
       "      <td>https://docs.aws.amazon.com/wellarchitected/la...</td>\n",
       "      <td>AWS Glossary - Machine Learning Lens</td>\n",
       "      <td>Lists the latest AWS terminology and usage.</td>\n",
       "      <td>en-US</td>\n",
       "      <td>Machine Learning Lens</td>\n",
       "      <td>AWS Glossary</td>\n",
       "      <td>NaN</td>\n",
       "      <td>NaN</td>\n",
       "      <td>NaN</td>\n",
       "    </tr>\n",
       "  </tbody>\n",
       "</table>\n",
       "</div>"
      ],
      "text/plain": [
       "                                          page_content  \\\n",
       "491  \\nDocument history - Machine Learning LensDocu...   \n",
       "492  \\nBest practices arranged by pillar - Machine ...   \n",
       "493  \\nBest practices by ML lifecycle phase - Machi...   \n",
       "494  \\nNotices - Machine Learning LensNotices - Mac...   \n",
       "495  \\nAWS Glossary - Machine Learning LensAWS Glos...   \n",
       "\n",
       "                                                source  \\\n",
       "491  https://docs.aws.amazon.com/wellarchitected/la...   \n",
       "492  https://docs.aws.amazon.com/wellarchitected/la...   \n",
       "493  https://docs.aws.amazon.com/wellarchitected/la...   \n",
       "494  https://docs.aws.amazon.com/wellarchitected/la...   \n",
       "495  https://docs.aws.amazon.com/wellarchitected/la...   \n",
       "\n",
       "                                                 title  \\\n",
       "491           Document history - Machine Learning Lens   \n",
       "492  Best practices arranged by pillar - Machine Le...   \n",
       "493  Best practices by ML lifecycle phase - Machine...   \n",
       "494                    Notices - Machine Learning Lens   \n",
       "495               AWS Glossary - Machine Learning Lens   \n",
       "\n",
       "                                           description language  \\\n",
       "491                                   Document history    en-US   \n",
       "492  These are all of the best practices outlined i...    en-US   \n",
       "493  There are six phases in the machine learning l...    en-US   \n",
       "494                                            Notices    en-US   \n",
       "495        Lists the latest AWS terminology and usage.    en-US   \n",
       "\n",
       "                      Lens                             1st Level 2nd Level  \\\n",
       "491  Machine Learning Lens                      Document history       NaN   \n",
       "492  Machine Learning Lens     Best practices arranged by pillar       NaN   \n",
       "493  Machine Learning Lens  Best practices by ML lifecycle phase       NaN   \n",
       "494  Machine Learning Lens                               Notices       NaN   \n",
       "495  Machine Learning Lens                          AWS Glossary       NaN   \n",
       "\n",
       "    3rd Level 4th Level  \n",
       "491       NaN       NaN  \n",
       "492       NaN       NaN  \n",
       "493       NaN       NaN  \n",
       "494       NaN       NaN  \n",
       "495       NaN       NaN  "
      ]
     },
     "execution_count": 12,
     "metadata": {},
     "output_type": "execute_result"
    }
   ],
   "source": [
    "df_from_docs.tail()"
   ]
  },
  {
   "cell_type": "markdown",
   "id": "3c323445-4b69-48fa-beab-94e2ce9dc75e",
   "metadata": {},
   "source": [
    "#### List all the Columns of the Data Frame"
   ]
  },
  {
   "cell_type": "code",
   "execution_count": 13,
   "id": "652c6d5f-80b7-4b22-88f5-fe575ab72ce7",
   "metadata": {},
   "outputs": [
    {
     "data": {
      "text/plain": [
       "Index(['page_content', 'source', 'title', 'description', 'language', 'Lens',\n",
       "       '1st Level', '2nd Level', '3rd Level', '4th Level'],\n",
       "      dtype='object')"
      ]
     },
     "execution_count": 13,
     "metadata": {},
     "output_type": "execute_result"
    }
   ],
   "source": [
    "df_from_docs.columns"
   ]
  },
  {
   "cell_type": "markdown",
   "id": "5c54fc26-d32c-495d-9d96-d6f43624c410",
   "metadata": {},
   "source": [
    "#### List general info about the DataFrame"
   ]
  },
  {
   "cell_type": "code",
   "execution_count": 14,
   "id": "d20160ab-9738-40b5-ae2d-e66d38433959",
   "metadata": {},
   "outputs": [
    {
     "data": {
      "text/plain": [
       "<bound method DataFrame.info of                                           page_content  \\\n",
       "0    \\nServerless Applications Lens - AWS Well-Arch...   \n",
       "1    \\nDefinitions - Serverless Applications LensDe...   \n",
       "2    \\nCompute layer - Serverless Applications Lens...   \n",
       "3    \\nData layer - Serverless Applications LensDat...   \n",
       "4    \\nMessaging and streaming layer - Serverless A...   \n",
       "..                                                 ...   \n",
       "491  \\nDocument history - Machine Learning LensDocu...   \n",
       "492  \\nBest practices arranged by pillar - Machine ...   \n",
       "493  \\nBest practices by ML lifecycle phase - Machi...   \n",
       "494  \\nNotices - Machine Learning LensNotices - Mac...   \n",
       "495  \\nAWS Glossary - Machine Learning LensAWS Glos...   \n",
       "\n",
       "                                                source  \\\n",
       "0    https://docs.aws.amazon.com/wellarchitected/la...   \n",
       "1    https://docs.aws.amazon.com/wellarchitected/la...   \n",
       "2    https://docs.aws.amazon.com/wellarchitected/la...   \n",
       "3    https://docs.aws.amazon.com/wellarchitected/la...   \n",
       "4    https://docs.aws.amazon.com/wellarchitected/la...   \n",
       "..                                                 ...   \n",
       "491  https://docs.aws.amazon.com/wellarchitected/la...   \n",
       "492  https://docs.aws.amazon.com/wellarchitected/la...   \n",
       "493  https://docs.aws.amazon.com/wellarchitected/la...   \n",
       "494  https://docs.aws.amazon.com/wellarchitected/la...   \n",
       "495  https://docs.aws.amazon.com/wellarchitected/la...   \n",
       "\n",
       "                                                 title  \\\n",
       "0    Serverless Applications Lens - AWS Well-Archit...   \n",
       "1           Definitions - Serverless Applications Lens   \n",
       "2         Compute layer - Serverless Applications Lens   \n",
       "3            Data layer - Serverless Applications Lens   \n",
       "4    Messaging and streaming layer - Serverless App...   \n",
       "..                                                 ...   \n",
       "491           Document history - Machine Learning Lens   \n",
       "492  Best practices arranged by pillar - Machine Le...   \n",
       "493  Best practices by ML lifecycle phase - Machine...   \n",
       "494                    Notices - Machine Learning Lens   \n",
       "495               AWS Glossary - Machine Learning Lens   \n",
       "\n",
       "                                           description language  \\\n",
       "0    This document describes the Serverless Applica...    en-US   \n",
       "1    The AWS Well-Architected Framework is based on...    en-US   \n",
       "2    The compute layer of your workload manages req...    en-US   \n",
       "3    The data layer of your workload manages persis...    en-US   \n",
       "4    The messaging layer of your workload manages c...    en-US   \n",
       "..                                                 ...      ...   \n",
       "491                                   Document history    en-US   \n",
       "492  These are all of the best practices outlined i...    en-US   \n",
       "493  There are six phases in the machine learning l...    en-US   \n",
       "494                                            Notices    en-US   \n",
       "495        Lists the latest AWS terminology and usage.    en-US   \n",
       "\n",
       "                        Lens                             1st Level  \\\n",
       "0    Serverless Applications            Abstract and Introducción    \n",
       "1    Serverless Applications                           Definitions   \n",
       "2    Serverless Applications                           Definitions   \n",
       "3    Serverless Applications                           Definitions   \n",
       "4    Serverless Applications                           Definitions   \n",
       "..                       ...                                   ...   \n",
       "491    Machine Learning Lens                      Document history   \n",
       "492    Machine Learning Lens     Best practices arranged by pillar   \n",
       "493    Machine Learning Lens  Best practices by ML lifecycle phase   \n",
       "494    Machine Learning Lens                               Notices   \n",
       "495    Machine Learning Lens                          AWS Glossary   \n",
       "\n",
       "                         2nd Level 3rd Level 4th Level  \n",
       "0                              NaN       NaN       NaN  \n",
       "1                              NaN       NaN       NaN  \n",
       "2                   Compute Layers       NaN       NaN  \n",
       "3                       Data Layer       NaN       NaN  \n",
       "4    Messaging and streaming layer       NaN       NaN  \n",
       "..                             ...       ...       ...  \n",
       "491                            NaN       NaN       NaN  \n",
       "492                            NaN       NaN       NaN  \n",
       "493                            NaN       NaN       NaN  \n",
       "494                            NaN       NaN       NaN  \n",
       "495                            NaN       NaN       NaN  \n",
       "\n",
       "[496 rows x 10 columns]>"
      ]
     },
     "execution_count": 14,
     "metadata": {},
     "output_type": "execute_result"
    }
   ],
   "source": [
    "df_from_docs.info"
   ]
  },
  {
   "cell_type": "markdown",
   "id": "c700a813-bddd-45ed-8582-6ee72b97fab5",
   "metadata": {},
   "source": [
    "#### General info, including total Count (Null Values)"
   ]
  },
  {
   "cell_type": "code",
   "execution_count": 15,
   "id": "eedc656c-c832-43b2-9bb8-5ac8e8241be2",
   "metadata": {},
   "outputs": [
    {
     "data": {
      "text/html": [
       "<div>\n",
       "<style scoped>\n",
       "    .dataframe tbody tr th:only-of-type {\n",
       "        vertical-align: middle;\n",
       "    }\n",
       "\n",
       "    .dataframe tbody tr th {\n",
       "        vertical-align: top;\n",
       "    }\n",
       "\n",
       "    .dataframe thead th {\n",
       "        text-align: right;\n",
       "    }\n",
       "</style>\n",
       "<table border=\"1\" class=\"dataframe\">\n",
       "  <thead>\n",
       "    <tr style=\"text-align: right;\">\n",
       "      <th></th>\n",
       "      <th>page_content</th>\n",
       "      <th>source</th>\n",
       "      <th>title</th>\n",
       "      <th>description</th>\n",
       "      <th>language</th>\n",
       "      <th>Lens</th>\n",
       "      <th>1st Level</th>\n",
       "      <th>2nd Level</th>\n",
       "      <th>3rd Level</th>\n",
       "      <th>4th Level</th>\n",
       "    </tr>\n",
       "  </thead>\n",
       "  <tbody>\n",
       "    <tr>\n",
       "      <th>count</th>\n",
       "      <td>496</td>\n",
       "      <td>496</td>\n",
       "      <td>496</td>\n",
       "      <td>490</td>\n",
       "      <td>496</td>\n",
       "      <td>496</td>\n",
       "      <td>496</td>\n",
       "      <td>448</td>\n",
       "      <td>360</td>\n",
       "      <td>186</td>\n",
       "    </tr>\n",
       "    <tr>\n",
       "      <th>unique</th>\n",
       "      <td>496</td>\n",
       "      <td>496</td>\n",
       "      <td>440</td>\n",
       "      <td>471</td>\n",
       "      <td>1</td>\n",
       "      <td>4</td>\n",
       "      <td>30</td>\n",
       "      <td>79</td>\n",
       "      <td>122</td>\n",
       "      <td>183</td>\n",
       "    </tr>\n",
       "    <tr>\n",
       "      <th>top</th>\n",
       "      <td>\\nServerless Applications Lens - AWS Well-Arch...</td>\n",
       "      <td>https://docs.aws.amazon.com/wellarchitected/la...</td>\n",
       "      <td>Characteristics - Data Analytics Lens</td>\n",
       "      <td>Notices</td>\n",
       "      <td>en-US</td>\n",
       "      <td>Machine Learning Lens</td>\n",
       "      <td>Well-Architected machine learning</td>\n",
       "      <td>Model development lifecycle phase</td>\n",
       "      <td>Cost optimization pillar best practices</td>\n",
       "      <td>Amazon API Gateway</td>\n",
       "    </tr>\n",
       "    <tr>\n",
       "      <th>freq</th>\n",
       "      <td>1</td>\n",
       "      <td>1</td>\n",
       "      <td>7</td>\n",
       "      <td>4</td>\n",
       "      <td>496</td>\n",
       "      <td>167</td>\n",
       "      <td>155</td>\n",
       "      <td>43</td>\n",
       "      <td>35</td>\n",
       "      <td>2</td>\n",
       "    </tr>\n",
       "  </tbody>\n",
       "</table>\n",
       "</div>"
      ],
      "text/plain": [
       "                                             page_content  \\\n",
       "count                                                 496   \n",
       "unique                                                496   \n",
       "top     \\nServerless Applications Lens - AWS Well-Arch...   \n",
       "freq                                                    1   \n",
       "\n",
       "                                                   source  \\\n",
       "count                                                 496   \n",
       "unique                                                496   \n",
       "top     https://docs.aws.amazon.com/wellarchitected/la...   \n",
       "freq                                                    1   \n",
       "\n",
       "                                        title description language  \\\n",
       "count                                     496         490      496   \n",
       "unique                                    440         471        1   \n",
       "top     Characteristics - Data Analytics Lens     Notices    en-US   \n",
       "freq                                        7           4      496   \n",
       "\n",
       "                         Lens                          1st Level  \\\n",
       "count                     496                                496   \n",
       "unique                      4                                 30   \n",
       "top     Machine Learning Lens  Well-Architected machine learning   \n",
       "freq                      167                                155   \n",
       "\n",
       "                                2nd Level  \\\n",
       "count                                 448   \n",
       "unique                                 79   \n",
       "top     Model development lifecycle phase   \n",
       "freq                                   43   \n",
       "\n",
       "                                      3rd Level           4th Level  \n",
       "count                                       360                 186  \n",
       "unique                                      122                 183  \n",
       "top     Cost optimization pillar best practices  Amazon API Gateway  \n",
       "freq                                         35                   2  "
      ]
     },
     "execution_count": 15,
     "metadata": {},
     "output_type": "execute_result"
    }
   ],
   "source": [
    "df_from_docs.describe(include='all')"
   ]
  },
  {
   "cell_type": "markdown",
   "id": "54a54844-f91e-40d9-95ae-15bfdd921b2b",
   "metadata": {},
   "source": [
    "With all this information we can confirm the data was extracted succesfully from the different URL's and we can see that the metadata was appended succesfully, we see multipple missing values as expected that will show the relationship between documents and we can confirm all URL's have a parent topic and a Lens seeing no Null values on the COlumn Lens and Column 1st Level."
   ]
  },
  {
   "cell_type": "markdown",
   "id": "7f9f2851-16d7-467a-842b-a51df38be549",
   "metadata": {},
   "source": [
    "### Analyzing Text Content"
   ]
  },
  {
   "cell_type": "markdown",
   "id": "1b13ae00",
   "metadata": {},
   "source": [
    "#### Count of documents for each Lens"
   ]
  },
  {
   "cell_type": "code",
   "execution_count": 27,
   "id": "85acce4d",
   "metadata": {},
   "outputs": [
    {
     "data": {
      "image/png": "[encoded data removed]",
      "text/plain": [
       "<Figure size 640x480 with 1 Axes>"
      ]
     },
     "metadata": {},
     "output_type": "display_data"
    }
   ],
   "source": [
    "try:\n",
    "    lens_series = df_from_docs['Lens']\n",
    "except NameError:\n",
    "    print(\"Error: df_from_docs is not defined. Be sure to load your DataFrame before running this code.\")\n",
    "else:\n",
    "    # Conteo de ocurrencias de cada valor\n",
    "    counts = lens_series.value_counts()\n",
    "\n",
    "    # Generar la gráfica de barras\n",
    "    fig, ax = plt.subplots()\n",
    "    ax.bar(counts.index, counts.values)\n",
    "    ax.set_xlabel('Lens')\n",
    "    ax.set_ylabel('Count')\n",
    "    ax.set_title('Frecuency in column Lens')\n",
    "    plt.xticks(rotation=45, ha='right')\n",
    "    plt.tight_layout()\n",
    "    plt.show()"
   ]
  },
  {
   "cell_type": "markdown",
   "id": "76ad34db-84cb-4abe-9caa-97d1f4eafac4",
   "metadata": {},
   "source": [
    "#### Text Length"
   ]
  },
  {
   "cell_type": "code",
   "execution_count": 16,
   "id": "7aaa28d7-b0d0-44f5-9c46-51fa985acbf7",
   "metadata": {},
   "outputs": [
    {
     "data": {
      "image/png": "[encoded data removed]",
      "text/plain": [
       "<Figure size 1000x600 with 1 Axes>"
      ]
     },
     "metadata": {},
     "output_type": "display_data"
    }
   ],
   "source": [
    "# Adding a column to the dataframe that contains the length of each sentence.\n",
    "df_from_docs['content_length'] = df_from_docs['page_content'].apply(len)\n",
    "#Define size of the plot to make\n",
    "plt.figure(figsize=(10, 6))\n",
    "# Create Histogram showing the length of the sentences\n",
    "sns.histplot(df_from_docs['content_length'], bins=50, kde=True)\n",
    "# Add title to the Histogram\n",
    "plt.title('Distribution of Document Lengths (Characters)')\n",
    "# Add title to the X axis\n",
    "plt.xlabel('Character Count')\n",
    "# Add title to the u axis\n",
    "plt.ylabel('Frequency')\n",
    "# Show histogram\n",
    "plt.show()"
   ]
  },
  {
   "cell_type": "markdown",
   "id": "87819e7a-228f-43ed-9105-5be90065ebd7",
   "metadata": {},
   "source": [
    "By reviewing the form of the Graph we can see that the distribution is skewed, which means we have very long text and very short text, however we see that the mayority of the text have a lower amount of words in arround 200 words, this will help us to define the chunk size for the next phase, when we do preprocesing to the data."
   ]
  },
  {
   "cell_type": "markdown",
   "id": "6d72820d-e875-4c75-89d9-c48c754d7c42",
   "metadata": {},
   "source": [
    "#### Vocabulary Analysis"
   ]
  },
  {
   "cell_type": "markdown",
   "id": "8cda934d-cd75-4682-9c90-d993ce3ca567",
   "metadata": {},
   "source": [
    "##### Define function to get top N words"
   ]
  },
  {
   "cell_type": "code",
   "execution_count": 17,
   "id": "4e20b7a3-5e6a-43b8-b295-dc5b00e11daa",
   "metadata": {},
   "outputs": [],
   "source": [
    "# Declare the stopwords, so we can ignore the ost common words in english vocabulary that do not add much sense to the senteces\n",
    "stop_words = set(stopwords.words('english'))\n",
    "stop_words.add(\"aws\")\n",
    "stop_words.add(\"amazon\")\n",
    "stop_words.add(\"us\")\n",
    "#Define the fucntion to generate the top N words\n",
    "def get_top_n_words(docs, n=20):\n",
    "    # Tokenize the words in the corpus\n",
    "    word_tokens = [word.lower() for doc in docs for word in word_tokenize(doc) if word.isalpha() and word.lower() not in stop_words]\n",
    "    # Count the times a word appears\n",
    "    word_counts = Counter(word_tokens)\n",
    "    # Return the Top n words\n",
    "    return word_counts.most_common(n)"
   ]
  },
  {
   "cell_type": "markdown",
   "id": "94bf6377-f734-479d-9478-b18cfc537ca6",
   "metadata": {},
   "source": [
    "##### Get the 20 most common words"
   ]
  },
  {
   "cell_type": "code",
   "execution_count": 21,
   "id": "81539869-8bbe-48a3-beb0-cac6d2421d76",
   "metadata": {},
   "outputs": [
    {
     "data": {
      "image/png": "[encoded data removed]",
      "text/plain": [
       "<Figure size 1000x600 with 1 Axes>"
      ]
     },
     "metadata": {},
     "output_type": "display_data"
    }
   ],
   "source": [
    "# Get the top words from all the documents\n",
    "top_words = get_top_n_words(df_from_docs['page_content'])\n",
    "# Create a new dataframe containing the word and the frquency of each word\n",
    "df_top_words = pd.DataFrame(top_words, columns=['word', 'frequency'])\n",
    "# Define plot size\n",
    "plt.figure(figsize=(10, 6))\n",
    "# Create Bar Plot to show the Most common words in a graph\n",
    "sns.barplot(x='frequency', y='word', data=df_top_words)\n",
    "# Add title to the graph\n",
    "plt.title('Top 20 Most Frequent Words (excluding Stop Words)')\n",
    "# SHow the graph\n",
    "plt.show()"
   ]
  },
  {
   "cell_type": "markdown",
   "id": "fea018ab-a38a-4d18-92a6-3db4854e9e90",
   "metadata": {},
   "source": [
    "From here we can see that the most common word is services appearing ove 1000 time, this makes sense as the architectural patterns try to recomend services that you can use based on the requirements so this shows the data has relavant information we can use for our Use case."
   ]
  },
  {
   "cell_type": "markdown",
   "id": "67c5e4b1-432f-40ae-89f2-98dce956b485",
   "metadata": {},
   "source": [
    "#### Readability"
   ]
  },
  {
   "cell_type": "markdown",
   "id": "bd7210f1-7392-40b0-a1bb-7eaf97912dcd",
   "metadata": {},
   "source": [
    "##### Define function to get redability scores"
   ]
  },
  {
   "cell_type": "code",
   "execution_count": 22,
   "id": "7e06ce05-293d-41c2-bf2a-3fd8a029b448",
   "metadata": {},
   "outputs": [],
   "source": [
    "#define Function to calculate readability\n",
    "def calculate_readability(text):\n",
    "    try:\n",
    "        #Define the scores to calculate from the received text\n",
    "        scores = {\n",
    "            \"flesch_reading_ease\": textstat.flesch_reading_ease(text),\n",
    "            \"smog_grade\": textstat.smog_index(text),\n",
    "        }\n",
    "        # Return the value of the scores\n",
    "        return scores\n",
    "    # Throw exception when there is an error\n",
    "    except Exception as e:\n",
    "        # #Return the error value\n",
    "        return {\"error\": str(e)}\n"
   ]
  },
  {
   "cell_type": "markdown",
   "id": "4d0c2928-0aa4-4ff5-ab93-d6d74f652966",
   "metadata": {},
   "source": [
    "##### Calculate ease of reading metrics"
   ]
  },
  {
   "cell_type": "code",
   "execution_count": 23,
   "id": "f3dbfa34-ad2e-459f-ba2a-4a25b2abf082",
   "metadata": {},
   "outputs": [
    {
     "name": "stdout",
     "output_type": "stream",
     "text": [
      "Readability Scores (using textstat):\n",
      "       content_length  flesch_reading_ease  smog_grade\n",
      "count      496.000000           496.000000  496.000000\n",
      "mean      3309.796371            30.853206   14.684073\n",
      "std       2067.235123            11.450186    2.176052\n",
      "min        790.000000           -58.800000   10.800000\n",
      "25%       1819.500000            26.275000   13.475000\n",
      "50%       2935.500000            31.480000   14.400000\n",
      "75%       4152.500000            37.835000   15.600000\n",
      "max      15000.000000            52.700000   30.700000\n"
     ]
    }
   ],
   "source": [
    "# Add a new column to the data frame with all the redability metrics per document\n",
    "df_from_docs['readability_scores'] = df_from_docs['page_content'].apply(calculate_readability)\n",
    "# Create a new dataframe containing only the readability metrics in separete columns\n",
    "readability_df = pd.json_normalize(df_from_docs['readability_scores'])\n",
    "# Add the metrics in separete columns to the original data frame\n",
    "df_from_docs = pd.concat([df_from_docs, readability_df], axis=1).drop(columns=['readability_scores'])\n",
    "# print the metrics\n",
    "print(\"Readability Scores (using textstat):\")\n",
    "print(df_from_docs.describe())"
   ]
  },
  {
   "cell_type": "markdown",
   "id": "71e7bd52-d58a-422d-8e42-0e4631ad9f85",
   "metadata": {},
   "source": [
    "We see in general the text is relative complex to understand and this alligns with the expectations the flesh_reading ease of 32 in average tells us that the text are intended to be read by a college studemt or above. So this makes sense as the data is very technical so we are expecting the inputs to be very technical as well, this is something to consider when creating prompts as if the prompts are very simple this might cause an issue, this might need to us to be sure the metadat is helpfull enough to pull the right information. We can confirm this with a smog_grade of 13, that alligns with the level of education expected to understaand the text. \n",
    "As this model is going to be utilized by profesionals in IT it is expected they will be able to provide the complex enoughh queries."
   ]
  },
  {
   "cell_type": "markdown",
   "id": "3d5a670f-6f0b-469d-8123-e363c502727c",
   "metadata": {},
   "source": [
    "ESTE ES UN CÖDIGO EJEMPLO PARA DETECTAR PROBLEMAS EN LOS TEXTOS DE RAG\n",
    "\n",
    "def identify_potential_issues(text):\n",
    "    \"\"\"Identifies potential issues in the text.\"\"\"\n",
    "    issues = {}\n",
    "\n",
    "    # Check for excessive HTML tags\n",
    "    html_tags = re.findall(r\"<[^>]+>\", text)\n",
    "    if len(html_tags) > 5:  # Adjust threshold as needed\n",
    "        issues[\"excessive_html_tags\"] = f\"Found {len(html_tags)} HTML tags\"\n",
    "\n",
    "    # Check for special characters or unusual symbols\n",
    "    special_chars = re.findall(r\"[^\\w\\s.,?!'\\\"-]\", text)\n",
    "    if len(special_chars) > 10:  # Adjust threshold as needed\n",
    "        issues[\"unusual_characters\"] = f\"Found unusual characters: {''.join(set(special_chars))}\"\n",
    "\n",
    "    # Check for repetitive phrases (simple example)\n",
    "    tokens = [word.lower() for word in word_tokenize(text) if word.isalpha() and word.lower() not in stopwords.words('english')]\n",
    "    if len(tokens) > 20:\n",
    "        for i in range(len(tokens) - 5):\n",
    "            phrase = \" \".join(tokens[i:i+3])\n",
    "            if tokens.count(phrase.split()[0]) > 3: # Simple check for repeated words\n",
    "                issues[\"potential_repetition\"] = \"Possible repetitive words or short phrases\"\n",
    "                break\n",
    "\n",
    "    # Check for very short content (potential empty or irrelevant chunks)\n",
    "    if len(text.split()) < 5:  # Adjust threshold as needed\n",
    "        issues[\"very_short_content\"] = f\"Content has only {len(text.split())} words\""
   ]
  },
  {
   "cell_type": "code",
   "execution_count": null,
   "id": "c1b0bc74-26fb-4d41-bad4-369fe2b34542",
   "metadata": {},
   "outputs": [],
   "source": []
  },
  {
   "cell_type": "code",
   "execution_count": null,
   "id": "acc9c2b2-ebed-46ca-aa87-25f7706d1b4f",
   "metadata": {},
   "outputs": [],
   "source": []
  }
 ],
 "metadata": {
  "kernelspec": {
   "display_name": "data",
   "language": "python",
   "name": "python3"
  },
  "language_info": {
   "codemirror_mode": {
    "name": "ipython",
    "version": 3
   },
   "file_extension": ".py",
   "mimetype": "text/x-python",
   "name": "python",
   "nbconvert_exporter": "python",
   "pygments_lexer": "ipython3",
   "version": "3.9.6"
  }
 },
 "nbformat": 4,
 "nbformat_minor": 5
}
