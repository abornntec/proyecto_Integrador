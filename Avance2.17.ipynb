{
 "cells": [
  {
   "cell_type": "markdown",
   "id": "6fb4bc15-e2b8-4d0e-be88-e83c77077043",
   "metadata": {},
   "source": [
    "## Install needed Libraries"
   ]
  },
  {
   "cell_type": "markdown",
   "id": "5a67303d-6b99-4c2e-bb83-a3d9f47849bb",
   "metadata": {},
   "source": [
    "### Install Libraries from pip"
   ]
  },
  {
   "cell_type": "code",
   "execution_count": 8,
   "id": "58c0ad0f-f1b7-4ed1-b1d2-b2e8948560b2",
   "metadata": {},
   "outputs": [
    {
     "name": "stdout",
     "output_type": "stream",
     "text": [
      "Requirement already satisfied: langchain in c:\\users\\soyel\\anaconda3\\lib\\site-packages (0.3.24)\n",
      "Requirement already satisfied: langchain-community in c:\\users\\soyel\\anaconda3\\lib\\site-packages (0.3.23)\n",
      "Requirement already satisfied: pandas in c:\\users\\soyel\\anaconda3\\lib\\site-packages (2.2.2)\n",
      "Requirement already satisfied: numpy in c:\\users\\soyel\\anaconda3\\lib\\site-packages (1.26.4)\n",
      "Requirement already satisfied: matplotlib in c:\\users\\soyel\\anaconda3\\lib\\site-packages (3.9.2)\n",
      "Requirement already satisfied: seaborn in c:\\users\\soyel\\anaconda3\\lib\\site-packages (0.13.2)\n",
      "Requirement already satisfied: nltk in c:\\users\\soyel\\anaconda3\\lib\\site-packages (3.9.1)\n",
      "Requirement already satisfied: textstat in c:\\users\\soyel\\anaconda3\\lib\\site-packages (0.7.5)\n",
      "Requirement already satisfied: langchain-core<1.0.0,>=0.3.55 in c:\\users\\soyel\\anaconda3\\lib\\site-packages (from langchain) (0.3.56)\n",
      "Requirement already satisfied: langchain-text-splitters<1.0.0,>=0.3.8 in c:\\users\\soyel\\anaconda3\\lib\\site-packages (from langchain) (0.3.8)\n",
      "Requirement already satisfied: langsmith<0.4,>=0.1.17 in c:\\users\\soyel\\anaconda3\\lib\\site-packages (from langchain) (0.3.38)\n",
      "Requirement already satisfied: pydantic<3.0.0,>=2.7.4 in c:\\users\\soyel\\anaconda3\\lib\\site-packages (from langchain) (2.8.2)\n",
      "Requirement already satisfied: SQLAlchemy<3,>=1.4 in c:\\users\\soyel\\anaconda3\\lib\\site-packages (from langchain) (2.0.34)\n",
      "Requirement already satisfied: requests<3,>=2 in c:\\users\\soyel\\anaconda3\\lib\\site-packages (from langchain) (2.32.3)\n",
      "Requirement already satisfied: PyYAML>=5.3 in c:\\users\\soyel\\anaconda3\\lib\\site-packages (from langchain) (6.0.1)\n",
      "Requirement already satisfied: aiohttp<4.0.0,>=3.8.3 in c:\\users\\soyel\\anaconda3\\lib\\site-packages (from langchain-community) (3.10.5)\n",
      "Requirement already satisfied: tenacity!=8.4.0,<10,>=8.1.0 in c:\\users\\soyel\\anaconda3\\lib\\site-packages (from langchain-community) (8.2.3)\n",
      "Requirement already satisfied: dataclasses-json<0.7,>=0.5.7 in c:\\users\\soyel\\anaconda3\\lib\\site-packages (from langchain-community) (0.6.7)\n",
      "Requirement already satisfied: pydantic-settings<3.0.0,>=2.4.0 in c:\\users\\soyel\\anaconda3\\lib\\site-packages (from langchain-community) (2.6.1)\n",
      "Requirement already satisfied: httpx-sse<1.0.0,>=0.4.0 in c:\\users\\soyel\\anaconda3\\lib\\site-packages (from langchain-community) (0.4.0)\n",
      "Requirement already satisfied: python-dateutil>=2.8.2 in c:\\users\\soyel\\anaconda3\\lib\\site-packages (from pandas) (2.9.0.post0)\n",
      "Requirement already satisfied: pytz>=2020.1 in c:\\users\\soyel\\anaconda3\\lib\\site-packages (from pandas) (2024.1)\n",
      "Requirement already satisfied: tzdata>=2022.7 in c:\\users\\soyel\\anaconda3\\lib\\site-packages (from pandas) (2023.3)\n",
      "Requirement already satisfied: contourpy>=1.0.1 in c:\\users\\soyel\\anaconda3\\lib\\site-packages (from matplotlib) (1.2.0)\n",
      "Requirement already satisfied: cycler>=0.10 in c:\\users\\soyel\\anaconda3\\lib\\site-packages (from matplotlib) (0.11.0)\n",
      "Requirement already satisfied: fonttools>=4.22.0 in c:\\users\\soyel\\anaconda3\\lib\\site-packages (from matplotlib) (4.51.0)\n",
      "Requirement already satisfied: kiwisolver>=1.3.1 in c:\\users\\soyel\\anaconda3\\lib\\site-packages (from matplotlib) (1.4.4)\n",
      "Requirement already satisfied: packaging>=20.0 in c:\\users\\soyel\\anaconda3\\lib\\site-packages (from matplotlib) (24.1)\n",
      "Requirement already satisfied: pillow>=8 in c:\\users\\soyel\\anaconda3\\lib\\site-packages (from matplotlib) (10.4.0)\n",
      "Requirement already satisfied: pyparsing>=2.3.1 in c:\\users\\soyel\\anaconda3\\lib\\site-packages (from matplotlib) (3.1.2)\n",
      "Requirement already satisfied: click in c:\\users\\soyel\\anaconda3\\lib\\site-packages (from nltk) (8.1.7)\n",
      "Requirement already satisfied: joblib in c:\\users\\soyel\\anaconda3\\lib\\site-packages (from nltk) (1.4.2)\n",
      "Requirement already satisfied: regex>=2021.8.3 in c:\\users\\soyel\\anaconda3\\lib\\site-packages (from nltk) (2024.9.11)\n",
      "Requirement already satisfied: tqdm in c:\\users\\soyel\\anaconda3\\lib\\site-packages (from nltk) (4.66.5)\n",
      "Requirement already satisfied: pyphen in c:\\users\\soyel\\anaconda3\\lib\\site-packages (from textstat) (0.17.2)\n",
      "Requirement already satisfied: cmudict in c:\\users\\soyel\\anaconda3\\lib\\site-packages (from textstat) (1.0.32)\n",
      "Requirement already satisfied: setuptools in c:\\users\\soyel\\anaconda3\\lib\\site-packages (from textstat) (75.1.0)\n",
      "Requirement already satisfied: aiohappyeyeballs>=2.3.0 in c:\\users\\soyel\\anaconda3\\lib\\site-packages (from aiohttp<4.0.0,>=3.8.3->langchain-community) (2.4.0)\n",
      "Requirement already satisfied: aiosignal>=1.1.2 in c:\\users\\soyel\\anaconda3\\lib\\site-packages (from aiohttp<4.0.0,>=3.8.3->langchain-community) (1.2.0)\n",
      "Requirement already satisfied: attrs>=17.3.0 in c:\\users\\soyel\\anaconda3\\lib\\site-packages (from aiohttp<4.0.0,>=3.8.3->langchain-community) (23.1.0)\n",
      "Requirement already satisfied: frozenlist>=1.1.1 in c:\\users\\soyel\\anaconda3\\lib\\site-packages (from aiohttp<4.0.0,>=3.8.3->langchain-community) (1.4.0)\n",
      "Requirement already satisfied: multidict<7.0,>=4.5 in c:\\users\\soyel\\anaconda3\\lib\\site-packages (from aiohttp<4.0.0,>=3.8.3->langchain-community) (6.0.4)\n",
      "Requirement already satisfied: yarl<2.0,>=1.0 in c:\\users\\soyel\\anaconda3\\lib\\site-packages (from aiohttp<4.0.0,>=3.8.3->langchain-community) (1.11.0)\n",
      "Requirement already satisfied: marshmallow<4.0.0,>=3.18.0 in c:\\users\\soyel\\anaconda3\\lib\\site-packages (from dataclasses-json<0.7,>=0.5.7->langchain-community) (3.26.1)\n",
      "Requirement already satisfied: typing-inspect<1,>=0.4.0 in c:\\users\\soyel\\anaconda3\\lib\\site-packages (from dataclasses-json<0.7,>=0.5.7->langchain-community) (0.9.0)\n",
      "Requirement already satisfied: jsonpatch<2.0,>=1.33 in c:\\users\\soyel\\anaconda3\\lib\\site-packages (from langchain-core<1.0.0,>=0.3.55->langchain) (1.33)\n",
      "Requirement already satisfied: typing-extensions>=4.7 in c:\\users\\soyel\\anaconda3\\lib\\site-packages (from langchain-core<1.0.0,>=0.3.55->langchain) (4.11.0)\n",
      "Requirement already satisfied: httpx<1,>=0.23.0 in c:\\users\\soyel\\anaconda3\\lib\\site-packages (from langsmith<0.4,>=0.1.17->langchain) (0.27.0)\n",
      "Requirement already satisfied: orjson<4.0.0,>=3.9.14 in c:\\users\\soyel\\anaconda3\\lib\\site-packages (from langsmith<0.4,>=0.1.17->langchain) (3.10.16)\n",
      "Requirement already satisfied: requests-toolbelt<2.0.0,>=1.0.0 in c:\\users\\soyel\\anaconda3\\lib\\site-packages (from langsmith<0.4,>=0.1.17->langchain) (1.0.0)\n",
      "Requirement already satisfied: zstandard<0.24.0,>=0.23.0 in c:\\users\\soyel\\anaconda3\\lib\\site-packages (from langsmith<0.4,>=0.1.17->langchain) (0.23.0)\n",
      "Requirement already satisfied: annotated-types>=0.4.0 in c:\\users\\soyel\\anaconda3\\lib\\site-packages (from pydantic<3.0.0,>=2.7.4->langchain) (0.6.0)\n",
      "Requirement already satisfied: pydantic-core==2.20.1 in c:\\users\\soyel\\anaconda3\\lib\\site-packages (from pydantic<3.0.0,>=2.7.4->langchain) (2.20.1)\n",
      "Requirement already satisfied: python-dotenv>=0.21.0 in c:\\users\\soyel\\anaconda3\\lib\\site-packages (from pydantic-settings<3.0.0,>=2.4.0->langchain-community) (0.21.0)\n",
      "Requirement already satisfied: six>=1.5 in c:\\users\\soyel\\anaconda3\\lib\\site-packages (from python-dateutil>=2.8.2->pandas) (1.16.0)\n",
      "Requirement already satisfied: charset-normalizer<4,>=2 in c:\\users\\soyel\\anaconda3\\lib\\site-packages (from requests<3,>=2->langchain) (3.3.2)\n",
      "Requirement already satisfied: idna<4,>=2.5 in c:\\users\\soyel\\anaconda3\\lib\\site-packages (from requests<3,>=2->langchain) (3.7)\n",
      "Requirement already satisfied: urllib3<3,>=1.21.1 in c:\\users\\soyel\\anaconda3\\lib\\site-packages (from requests<3,>=2->langchain) (2.2.3)\n",
      "Requirement already satisfied: certifi>=2017.4.17 in c:\\users\\soyel\\anaconda3\\lib\\site-packages (from requests<3,>=2->langchain) (2025.1.31)\n",
      "Requirement already satisfied: greenlet!=0.4.17 in c:\\users\\soyel\\anaconda3\\lib\\site-packages (from SQLAlchemy<3,>=1.4->langchain) (3.0.1)\n",
      "Requirement already satisfied: colorama in c:\\users\\soyel\\anaconda3\\lib\\site-packages (from click->nltk) (0.4.6)\n",
      "Requirement already satisfied: importlib-metadata>=5 in c:\\users\\soyel\\anaconda3\\lib\\site-packages (from cmudict->textstat) (7.0.1)\n",
      "Requirement already satisfied: importlib-resources>=5 in c:\\users\\soyel\\anaconda3\\lib\\site-packages (from cmudict->textstat) (6.5.2)\n",
      "Requirement already satisfied: anyio in c:\\users\\soyel\\anaconda3\\lib\\site-packages (from httpx<1,>=0.23.0->langsmith<0.4,>=0.1.17->langchain) (4.2.0)\n",
      "Requirement already satisfied: httpcore==1.* in c:\\users\\soyel\\anaconda3\\lib\\site-packages (from httpx<1,>=0.23.0->langsmith<0.4,>=0.1.17->langchain) (1.0.2)\n",
      "Requirement already satisfied: sniffio in c:\\users\\soyel\\anaconda3\\lib\\site-packages (from httpx<1,>=0.23.0->langsmith<0.4,>=0.1.17->langchain) (1.3.0)\n",
      "Requirement already satisfied: h11<0.15,>=0.13 in c:\\users\\soyel\\anaconda3\\lib\\site-packages (from httpcore==1.*->httpx<1,>=0.23.0->langsmith<0.4,>=0.1.17->langchain) (0.14.0)\n",
      "Requirement already satisfied: zipp>=0.5 in c:\\users\\soyel\\anaconda3\\lib\\site-packages (from importlib-metadata>=5->cmudict->textstat) (3.17.0)\n",
      "Requirement already satisfied: jsonpointer>=1.9 in c:\\users\\soyel\\anaconda3\\lib\\site-packages (from jsonpatch<2.0,>=1.33->langchain-core<1.0.0,>=0.3.55->langchain) (2.1)\n",
      "Requirement already satisfied: mypy-extensions>=0.3.0 in c:\\users\\soyel\\anaconda3\\lib\\site-packages (from typing-inspect<1,>=0.4.0->dataclasses-json<0.7,>=0.5.7->langchain-community) (1.0.0)\n"
     ]
    }
   ],
   "source": [
    "!pip install langchain langchain-community pandas numpy matplotlib seaborn nltk textstat"
   ]
  },
  {
   "cell_type": "markdown",
   "id": "ee690ab4-f7cd-46a5-8389-2f7e0a92971f",
   "metadata": {},
   "source": [
    "### Import needed Libraries"
   ]
  },
  {
   "cell_type": "code",
   "execution_count": 11,
   "id": "1e506d2e-cbc6-484a-8e95-1036091b8ef7",
   "metadata": {},
   "outputs": [
    {
     "name": "stderr",
     "output_type": "stream",
     "text": [
      "USER_AGENT environment variable not set, consider setting it to identify your requests.\n",
      "[nltk_data] Downloading package stopwords to\n",
      "[nltk_data]     C:\\Users\\soyel\\AppData\\Roaming\\nltk_data...\n",
      "[nltk_data]   Package stopwords is already up-to-date!\n",
      "[nltk_data] Downloading package punkt to\n",
      "[nltk_data]     C:\\Users\\soyel\\AppData\\Roaming\\nltk_data...\n",
      "[nltk_data]   Package punkt is already up-to-date!\n",
      "[nltk_data] Downloading package punkt_tab to\n",
      "[nltk_data]     C:\\Users\\soyel\\AppData\\Roaming\\nltk_data...\n",
      "[nltk_data]   Package punkt_tab is already up-to-date!\n"
     ]
    }
   ],
   "source": [
    "import pandas as pd\n",
    "from langchain.document_loaders import WebBaseLoader\n",
    "from langchain.text_splitter import RecursiveCharacterTextSplitter\n",
    "from langchain.docstore.document import Document\n",
    "import matplotlib.pyplot as plt\n",
    "import seaborn as sns\n",
    "import nltk\n",
    "# Download the needed nltk corpus \n",
    "nltk.download('stopwords')\n",
    "nltk.download('punkt')\n",
    "nltk.download('punkt_tab')\n",
    "from nltk.tokenize import word_tokenize\n",
    "from nltk.corpus import stopwords\n",
    "from collections import Counter\n",
    "import unicodedata\n",
    "import textstat\n",
    "import re"
   ]
  },
  {
   "cell_type": "markdown",
   "id": "81a7400f-90e3-42b9-9017-452de6d07100",
   "metadata": {},
   "source": [
    "## Convert Excel Spreadsheet to pandas Data Frame"
   ]
  },
  {
   "cell_type": "code",
   "execution_count": 14,
   "id": "56eb7dc3-00f9-4c8c-a1a0-2bace5f2d3dc",
   "metadata": {},
   "outputs": [
    {
     "name": "stdout",
     "output_type": "stream",
     "text": [
      "Shape:  (628, 6)\n"
     ]
    },
    {
     "data": {
      "text/html": [
       "<div>\n",
       "<style scoped>\n",
       "    .dataframe tbody tr th:only-of-type {\n",
       "        vertical-align: middle;\n",
       "    }\n",
       "\n",
       "    .dataframe tbody tr th {\n",
       "        vertical-align: top;\n",
       "    }\n",
       "\n",
       "    .dataframe thead th {\n",
       "        text-align: right;\n",
       "    }\n",
       "</style>\n",
       "<table border=\"1\" class=\"dataframe\">\n",
       "  <thead>\n",
       "    <tr style=\"text-align: right;\">\n",
       "      <th></th>\n",
       "      <th>URL</th>\n",
       "      <th>1st Level</th>\n",
       "      <th>2nd Level</th>\n",
       "      <th>3rd Level</th>\n",
       "      <th>4th Level</th>\n",
       "      <th>Lens</th>\n",
       "    </tr>\n",
       "  </thead>\n",
       "  <tbody>\n",
       "    <tr>\n",
       "      <th>0</th>\n",
       "      <td>https://docs.aws.amazon.com/wellarchitected/la...</td>\n",
       "      <td>Abstract and Introducción</td>\n",
       "      <td>NaN</td>\n",
       "      <td>NaN</td>\n",
       "      <td>NaN</td>\n",
       "      <td>Serverless Applications</td>\n",
       "    </tr>\n",
       "    <tr>\n",
       "      <th>1</th>\n",
       "      <td>https://docs.aws.amazon.com/wellarchitected/la...</td>\n",
       "      <td>Definitions</td>\n",
       "      <td>NaN</td>\n",
       "      <td>NaN</td>\n",
       "      <td>NaN</td>\n",
       "      <td>Serverless Applications</td>\n",
       "    </tr>\n",
       "    <tr>\n",
       "      <th>2</th>\n",
       "      <td>https://docs.aws.amazon.com/wellarchitected/la...</td>\n",
       "      <td>Definitions</td>\n",
       "      <td>Compute Layers</td>\n",
       "      <td>NaN</td>\n",
       "      <td>NaN</td>\n",
       "      <td>Serverless Applications</td>\n",
       "    </tr>\n",
       "    <tr>\n",
       "      <th>3</th>\n",
       "      <td>https://docs.aws.amazon.com/wellarchitected/la...</td>\n",
       "      <td>Definitions</td>\n",
       "      <td>Data Layer</td>\n",
       "      <td>NaN</td>\n",
       "      <td>NaN</td>\n",
       "      <td>Serverless Applications</td>\n",
       "    </tr>\n",
       "    <tr>\n",
       "      <th>4</th>\n",
       "      <td>https://docs.aws.amazon.com/wellarchitected/la...</td>\n",
       "      <td>Definitions</td>\n",
       "      <td>Messaging and streaming layer</td>\n",
       "      <td>NaN</td>\n",
       "      <td>NaN</td>\n",
       "      <td>Serverless Applications</td>\n",
       "    </tr>\n",
       "  </tbody>\n",
       "</table>\n",
       "</div>"
      ],
      "text/plain": [
       "                                                 URL  \\\n",
       "0  https://docs.aws.amazon.com/wellarchitected/la...   \n",
       "1  https://docs.aws.amazon.com/wellarchitected/la...   \n",
       "2  https://docs.aws.amazon.com/wellarchitected/la...   \n",
       "3  https://docs.aws.amazon.com/wellarchitected/la...   \n",
       "4  https://docs.aws.amazon.com/wellarchitected/la...   \n",
       "\n",
       "                    1st Level                      2nd Level 3rd Level  \\\n",
       "0  Abstract and Introducción                             NaN       NaN   \n",
       "1                 Definitions                            NaN       NaN   \n",
       "2                 Definitions                 Compute Layers       NaN   \n",
       "3                 Definitions                     Data Layer       NaN   \n",
       "4                 Definitions  Messaging and streaming layer       NaN   \n",
       "\n",
       "  4th Level                     Lens  \n",
       "0       NaN  Serverless Applications  \n",
       "1       NaN  Serverless Applications  \n",
       "2       NaN  Serverless Applications  \n",
       "3       NaN  Serverless Applications  \n",
       "4       NaN  Serverless Applications  "
      ]
     },
     "execution_count": 14,
     "metadata": {},
     "output_type": "execute_result"
    }
   ],
   "source": [
    "# Read Excel containig List of URL's with Architectural Pattern and Metadata.\n",
    "url_df = pd.read_excel(\"./URLs.xlsx\", sheet_name=\"Sheet1\")\n",
    "# Show shape of DataFrame\n",
    "print(\"Shape: \",url_df.shape)\n",
    "# Show the Format of the Data Frame\n",
    "url_df.head()"
   ]
  },
  {
   "cell_type": "markdown",
   "id": "94d21c28-af90-4db6-9faa-373eb39c7fc9",
   "metadata": {},
   "source": [
    "## Read each link and store the Data in correct Format"
   ]
  },
  {
   "cell_type": "markdown",
   "id": "9674ee42-f170-4455-a550-31483ca0b40f",
   "metadata": {},
   "source": [
    "### Create Function to add Level to metadata"
   ]
  },
  {
   "cell_type": "code",
   "execution_count": 18,
   "id": "fbff30f1-e813-43a6-b2f9-275c77b583c9",
   "metadata": {},
   "outputs": [],
   "source": [
    "# We create a function to validate if a level exist in a row of the dataframe\n",
    "def createMetadataLevel(level,url_line,metadata):\n",
    "    #Validate if the Level is enot empty\n",
    "    if(not pd.isna(url_line[level])):\n",
    "        #If level is not empty add the level to the metadata\n",
    "        metadata[level]=url_line[level]\n",
    "    #Return the modified metadata.\n",
    "    return metadata"
   ]
  },
  {
   "cell_type": "markdown",
   "id": "b86db4c2-b7e0-4796-94c6-796c3621954e",
   "metadata": {},
   "source": [
    "### Create function to load the URL with the extra metadata."
   ]
  },
  {
   "cell_type": "code",
   "execution_count": 21,
   "id": "54783555-aabd-431a-9b15-f9af4087096e",
   "metadata": {},
   "outputs": [],
   "source": [
    "def loadURLWithMetaData(url_line):\n",
    "    # We define the loader, which will read the information in the URL's leveraging the langchain library.\n",
    "    loader = WebBaseLoader(\n",
    "        # We say, which URL will be read and loaded.\n",
    "        url_line[\"URL\"],\n",
    "    )\n",
    "    # We will read the URL and get different documents from all the paragraphs.\n",
    "    docs = loader.load()\n",
    "    # We define all the metadata to add to the docs read from this page\n",
    "    metadata = {\n",
    "        \"Lens\": url_line[\"Lens\"],\n",
    "        \"1st Level\": url_line[\"1st Level\"]\n",
    "    }\n",
    "    # Add all levels of metadata, validating the level exists.\n",
    "    metadata = createMetadataLevel(\"2nd Level\",url_line,metadata)\n",
    "    metadata = createMetadataLevel(\"3rd Level\",url_line,metadata)\n",
    "    metadata = createMetadataLevel(\"4th Level\",url_line,metadata)\n",
    "\n",
    "    for doc in docs:\n",
    "        doc.metadata.update(metadata)\n",
    "\n",
    "    return docs"
   ]
  },
  {
   "cell_type": "markdown",
   "id": "34a270a9-ebcc-4567-93f7-5a5ae98b529d",
   "metadata": {},
   "source": [
    "### Cycle trough all URL's in the list and load them"
   ]
  },
  {
   "cell_type": "code",
   "execution_count": 24,
   "id": "72e57ccc-36cf-4825-90ad-a1bc3986cea8",
   "metadata": {},
   "outputs": [
    {
     "name": "stdout",
     "output_type": "stream",
     "text": [
      "This is a sample of the content extracted from the URL's page_content='\n",
      "Serverless Applications Lens - AWS Well-Architected Framework - Serverless Applications LensServerless Applications Lens - AWS Well-Architected Framework - Serverless Applications LensDocumentationAWS Well-ArchitectedAWS Well-Architected FrameworkIntroductionCustom lens availabilityServerless Applications Lens - AWS Well-Architected FrameworkPublication date: July 14, 2022 (Document revisions)\n",
      "    This document describes the Serverless Applications Lens for\n",
      "    the AWS\n",
      "      Well-Architected Framework. The document covers common\n",
      "    serverless applications scenarios and identifies key elements to\n",
      "    ensure that your workloads are architected according to best\n",
      "    practices.\n",
      "  \n",
      "Introduction\n",
      "\n",
      "      The AWS Well-Architected Framework helps you understand the pros and\n",
      "      cons of decisions you make while building systems on AWS. By using\n",
      "      the Framework, you will learn architectural best practices for\n",
      "      designing and operating reliable, secure, efficient, and\n",
      "      cost-effective systems in the cloud. It provides a way for you to\n",
      "      consistently measure your architectures against best practices and\n",
      "      identify areas for improvement. We believe that having\n",
      "      well-architected systems greatly increases the likelihood of\n",
      "      business success.\n",
      "    \n",
      " In this Lens we focus on how to design, deploy, and architect your serverless application\n",
      "      workloads in the AWS Cloud. For brevity, we have only covered details from the\n",
      "      Well-Architected Framework that are specific to serverless workloads. You should still\n",
      "      consider best practices and questions that have not been included in this document when\n",
      "      designing your architecture. We recommend that you read the AWS Well-Architected\n",
      "      Framework whitepaper. \n",
      " This document is intended for those in technology roles, such as Chief Technology\n",
      "      Officers (CTOs), architects, developers, and operations team members. After reading this\n",
      "      document, you will understand AWS best practices and strategies to use when designing\n",
      "      architectures for serverless applications. \n",
      "Custom lens availability\n",
      "Custom lenses extend the best practice guidance provided by AWS Well-Architected Tool. AWS WA Tool allows you to\n",
      "      create your own custom lenses, or to use\n",
      "      lenses created by others that have been shared with you.\n",
      "To determine if a custom lens is available for the lens described in this whitepaper,\n",
      "      reach out to your Technical Account Manager (TAM), Solutions Architect (SA), or Support.\n",
      " Javascript is disabled or is unavailable in your browser.To use the Amazon Web Services Documentation, Javascript must be enabled. Please refer to your browser's Help pages for instructions.Document ConventionsDefinitionsDid this page help you? - YesThanks for letting us know we're doing a good job!If you've got a moment, please tell us what we did right so we can do more of it.Did this page help you? - NoThanks for letting us know this page needs work. We're sorry we let you down.If you've got a moment, please tell us how we can make the documentation better.' metadata={'source': 'https://docs.aws.amazon.com/wellarchitected/latest/serverless-applications-lens/welcome.html', 'title': 'Serverless Applications Lens - AWS Well-Architected Framework - Serverless Applications Lens', 'description': 'This document describes the Serverless Applications Lens for the AWS Well-Architected Framework. The document covers common serverless applications scenarios and identifies key elements to ensure that your workloads are architected according to best practices.', 'language': 'en-US', 'Lens': 'Serverless Applications', '1st Level': 'Abstract and Introducción '}\n"
     ]
    }
   ],
   "source": [
    "#Define Variable to store all information extracted from the URL's with the metadata.\n",
    "all_docs = []\n",
    "#Cycle trough all URL's to load them as text and add the desired metadata.\n",
    "for index, row in url_df.iterrows():\n",
    "    #Read the content of the URL, add it to the list with it's needed metadata in the propper format, to be able to process it later.\n",
    "    all_docs.extend(loadURLWithMetaData(row))\n",
    "print(\"This is a sample of the content extracted from the URL's\", all_docs[0])"
   ]
  },
  {
   "cell_type": "markdown",
   "id": "9e5730f5-1959-48f2-a479-ba8e5ce9d986",
   "metadata": {},
   "source": [
    "**Preprocessing for RAG System:**\n",
    "\n",
    "Having structured and explored our data, the next crucial step is to prepare it for our Retrieval-Augmented Generation (RAG) system. This involves applying targeted preprocessing techniques informed by the findings of our Exploratory Data Analysis (EDA). The goal of these actions is to refine the text, making it more suitable for generating high-quality embeddings and ultimately enhancing the performance of our RAG model. Following these preprocessing steps, we will proceed to create the embeddings and load them into a vector database.\n",
    "\n",
    "The following specific actions have been identified and will be performed in this notebook before the embedding and loading phase, which will occur at the conclusion of this notebook:\n",
    "\n",
    "1.  **Apply Text Normalization and Clean Unusal Characters:** Standardize the text by removing html characters and setting all to lower case.\n",
    "2.  **Evaluate \"data\" Word:** Analyze the prevalence and context of the word \"data\" to determine if it should be treated as a stop word.\n",
    "3.  **Handle Repetitive Phrases:** Identify and process or remove frequently recurring phrases that may not contribute significant semantic value."
   ]
  },
  {
   "cell_type": "markdown",
   "id": "fd57e4de-cac7-4eb3-b7d9-54d91726eb79",
   "metadata": {},
   "source": [
    "## Normalize text and clean Unusal Characters"
   ]
  },
  {
   "cell_type": "markdown",
   "id": "17e4e48f-5f2f-4467-ae9b-ac8605f46cde",
   "metadata": {},
   "source": [
    "### Define function to Normalize text"
   ]
  },
  {
   "cell_type": "code",
   "execution_count": 102,
   "id": "89978317-b6a1-4e44-a9e5-4c402f7d0006",
   "metadata": {},
   "outputs": [],
   "source": [
    "def normalize_text(text):\n",
    "    nomalize_text = unicodedata.normalize('NFKC', text)\n",
    "    nomalize_text = re.sub(r\"\\s+\", \" \", nomalize_text)  # Normalize whitespace\n",
    "    return text"
   ]
  },
  {
   "cell_type": "markdown",
   "id": "5ae47621-be03-4212-86ab-2bd57517238f",
   "metadata": {},
   "source": [
    "### Test text normalization"
   ]
  },
  {
   "cell_type": "code",
   "execution_count": 108,
   "id": "e5193d91-252a-4cdd-8f66-abbe99bfd60c",
   "metadata": {},
   "outputs": [
    {
     "name": "stdout",
     "output_type": "stream",
     "text": [
      "\n",
      "Serverless Applications Lens - AWS Well-Architected Framework - Serverless Applications LensServerless Applications Lens - AWS Well-Architected Framework - Serverless Applications LensDocumentationAWS Well-ArchitectedAWS Well-Architected FrameworkIntroductionCustom lens availabilityServerless Applications Lens - AWS Well-Architected FrameworkPublication date: July 14, 2022 (Document revisions)\n",
      "    This document describes the Serverless Applications Lens for\n",
      "    the AWS\n",
      "      Well-Architected Framework. The document covers common\n",
      "    serverless applications scenarios and identifies key elements to\n",
      "    ensure that your workloads are architected according to best\n",
      "    practices.\n",
      "  \n",
      "Introduction\n",
      "\n",
      "      The AWS Well-Architected Framework helps you understand the pros and\n",
      "      cons of decisions you make while building systems on AWS. By using\n",
      "      the Framework, you will learn architectural best practices for\n",
      "      designing and operating reliable, secure, efficient, and\n",
      "      cost-effective systems in the cloud. It provides a way for you to\n",
      "      consistently measure your architectures against best practices and\n",
      "      identify areas for improvement. We believe that having\n",
      "      well-architected systems greatly increases the likelihood of\n",
      "      business success.\n",
      "    \n",
      " In this Lens we focus on how to design, deploy, and architect your serverless application\n",
      "      workloads in the AWS Cloud. For brevity, we have only covered details from the\n",
      "      Well-Architected Framework that are specific to serverless workloads. You should still\n",
      "      consider best practices and questions that have not been included in this document when\n",
      "      designing your architecture. We recommend that you read the AWS Well-Architected\n",
      "      Framework whitepaper. \n",
      " This document is intended for those in technology roles, such as Chief Technology\n",
      "      Officers (CTOs), architects, developers, and operations team members. After reading this\n",
      "      document, you will understand AWS best practices and strategies to use when designing\n",
      "      architectures for serverless applications. \n",
      "Custom lens availability\n",
      "Custom lenses extend the best practice guidance provided by AWS Well-Architected Tool. AWS WA Tool allows you to\n",
      "      create your own custom lenses, or to use\n",
      "      lenses created by others that have been shared with you.\n",
      "To determine if a custom lens is available for the lens described in this whitepaper,\n",
      "      reach out to your Technical Account Manager (TAM), Solutions Architect (SA), or Support.\n",
      " Javascript is disabled or is unavailable in your browser.To use the Amazon Web Services Documentation, Javascript must be enabled. Please refer to your browser's Help pages for instructions.Document ConventionsDefinitionsDid this page help you? - YesThanks for letting us know we're doing a good job!If you've got a moment, please tell us what we did right so we can do more of it.Did this page help you? - NoThanks for letting us know this page needs work. We're sorry we let you down.If you've got a moment, please tell us how we can make the documentation better.\n"
     ]
    }
   ],
   "source": [
    "text = all_docs[0].page_content\n",
    "print(normalize_text(text))"
   ]
  },
  {
   "cell_type": "markdown",
   "id": "32c317d9-42a2-4797-8aee-d5bcd8281bc8",
   "metadata": {},
   "source": [
    "## Explore \"data\" word"
   ]
  },
  {
   "cell_type": "markdown",
   "id": "6b7ce51c-7bdc-4771-8818-50d009e35c46",
   "metadata": {},
   "source": [
    "## Handle Repetitive Phrases"
   ]
  },
  {
   "cell_type": "markdown",
   "id": "5f69c791-7eb9-47bb-8fed-b2b2469d8fc5",
   "metadata": {},
   "source": [
    "### Identify Repetitive phrases"
   ]
  },
  {
   "cell_type": "markdown",
   "id": "d1109aab-ef9c-4337-a3f5-343186820271",
   "metadata": {},
   "source": [
    "#### Define function to get repetitive phrases"
   ]
  },
  {
   "cell_type": "code",
   "execution_count": 216,
   "id": "d2a436b4-3b42-4694-a33c-356a48aa95e7",
   "metadata": {},
   "outputs": [],
   "source": [
    "def identify_repetitive_phrases(text, repetition_ngram=6):\n",
    "    # Normalize Unicode (e.g., accented characters)\n",
    "    normalized_text = unicodedata.normalize('NFKC', text)\n",
    "\n",
    "    tokens = [word.lower() for word in word_tokenize(normalized_text) if word.isalpha()]\n",
    "    tokens_clean = [t for t in tokens if t not in stopwords.words('english')]\n",
    "\n",
    "    if len(tokens_clean) > 10:\n",
    "        ngrams = [' '.join(tokens_clean[i:i+repetition_ngram]) for i in range(len(tokens_clean) - repetition_ngram + 1)]\n",
    "        ngram_counts = Counter(ngrams)\n",
    "        repeated_phrases = {k: v for k, v in ngram_counts.items() if v > 20}\n",
    "        if repeated_phrases:\n",
    "            print(f\"Repeated phrases: {list(repeated_phrases.keys())}\")"
   ]
  },
  {
   "cell_type": "markdown",
   "id": "bbe16610-a8e7-43bd-a357-1ffa9c09d4a3",
   "metadata": {},
   "source": [
    "##### Get repeitive phrases"
   ]
  },
  {
   "cell_type": "code",
   "execution_count": 219,
   "id": "5db5b31d-f86d-425d-bdde-d75270bbe114",
   "metadata": {},
   "outputs": [
    {
     "name": "stdout",
     "output_type": "stream",
     "text": [
      "Repeated phrases: ['javascript disabled unavailable use amazon web', 'disabled unavailable use amazon web services', 'unavailable use amazon web services documentation', 'use amazon web services documentation javascript', 'amazon web services documentation javascript must', 'web services documentation javascript must enabled', 'services documentation javascript must enabled please', 'documentation javascript must enabled please refer', 'javascript must enabled please refer browser', 'must enabled please refer browser help', 'enabled please refer browser help pages', 'page help yesthanks letting us know', 'help yesthanks letting us know good', 'yesthanks letting us know good job', 'letting us know good job got', 'us know good job got moment', 'know good job got moment please', 'good job got moment please tell', 'job got moment please tell us', 'got moment please tell us right', 'moment please tell us right page', 'please tell us right page help', 'tell us right page help nothanks', 'us right page help nothanks letting', 'right page help nothanks letting us', 'page help nothanks letting us know', 'help nothanks letting us know page', 'nothanks letting us know page needs', 'letting us know page needs work', 'us know page needs work sorry', 'know page needs work sorry let', 'page needs work sorry let got', 'needs work sorry let got moment', 'work sorry let got moment please', 'sorry let got moment please tell', 'let got moment please tell us', 'got moment please tell us make', 'moment please tell us make documentation', 'please tell us make documentation better', 'tell us make documentation better use', 'please refer browser help pages use', 'level risk exposed best practice established', 'resources related practices related guides videos', 'related practices related guides videos documentation', 'risk exposed best practice established medium', 'exposed best practice established medium implementation', 'best practice established medium implementation guidance', 'pillar best practicesdid page help yesthanks', 'best practicesdid page help yesthanks letting', 'practicesdid page help yesthanks letting us', 'pillar best practices machine learning lensdocumentationaws', 'implementation plan use amazon sagemaker ai', 'tell us make documentation better best', 'us make documentation better best practice', 'please refer browser help pages conventionsbp', 'bp applies following best practice areas']\n"
     ]
    }
   ],
   "source": [
    "all_text = [doc.page_content for doc in all_docs]\n",
    "combined_text = \" \".join(all_text)\n",
    "identify_repetitive_phrases(combined_text)"
   ]
  },
  {
   "cell_type": "markdown",
   "id": "9d4935ce-335b-4223-9840-315b9e2ef628",
   "metadata": {},
   "source": [
    "Seeing the specific repeated phrases we can categorize them into 1 general area:\n",
    "\n",
    "1. Navigation/UI Element\n",
    "\n",
    "For the category, we would need to remove them so it does not disturb with the content, as it is content from an UI persepctive, that does not contain valuable data.\n",
    "\n",
    "The full sentences is, we will need to hande it after it is normalized:\n",
    "To determine if a custom lens is available for the lens described in this whitepaper,\n",
    "reach out to your Technical Account Manager (TAM), Solutions Architect (SA), or Support.\n",
    "Javascript is disabled or is unavailable in your browser.To use the Amazon Web Services Documentation, Javascript must be enabled. Please refer to your browser's Help pages for instructions.Document ConventionsDefinitionsDid this page help you? - YesThanks for letting us know we're doing a good job!If you've got a moment, please tell us what we did right so we can do more of it.Did this page help you? - NoThanks for letting us know this page needs work. We're sorry we let you down.If you've got a moment, please tell us how we can make the documentation better.\n",
    "\n",
    "We will remove the whole section in each of the lenses, after a deep dive review we realized this was beeing pulled and does not add much context to the system."
   ]
  },
  {
   "cell_type": "markdown",
   "id": "718ed1b2-0da6-4f49-b0d6-98426658313c",
   "metadata": {},
   "source": [
    "### Define Function to handle repetitive phrase"
   ]
  },
  {
   "cell_type": "code",
   "execution_count": 222,
   "id": "b46caa7f-8447-4840-a54b-70b71dbbef54",
   "metadata": {},
   "outputs": [],
   "source": [
    "def remove_repetitive_phrases(rep_phrases,text):\n",
    "    for phrase in rep_phrases:\n",
    "        text = re.sub(phrase, \"\", text, flags=re.IGNORECASE)\n",
    "    return text"
   ]
  },
  {
   "cell_type": "markdown",
   "id": "c7f9932e-4534-4f70-a285-3e8bd9569bbd",
   "metadata": {},
   "source": [
    "### Test Repetitive phrase handler"
   ]
  },
  {
   "cell_type": "code",
   "execution_count": 209,
   "id": "cbc2e346-7885-4ef6-b44e-c1fbe443ad67",
   "metadata": {},
   "outputs": [
    {
     "name": "stdout",
     "output_type": "stream",
     "text": [
      "\n",
      "Compute layer - Serverless Applications LensCompute layer - Serverless Applications LensDocumentationAWS Well-ArchitectedAWS Well-Architected FrameworkCompute layer The compute layer of your workload manages requests from external systems, controlling\n",
      "      access and verifying that requests are appropriately authorized. Your business logic will be\n",
      "      deployed and started by the runtime environment that it contains. \n",
      "AWS Lambda lets you run stateless serverless\n",
      "      applications on a managed platform that supports microservice architectures, deployment, and\n",
      "      management of execution at the function layer.  With Amazon API Gateway, you can run a fully\n",
      "      managed REST API that integrates with Lambda to\n",
      "      apply your business logic, and includes traffic management, authorization and access control,\n",
      "      monitoring, and API versioning. \n",
      "AWS Step Functions orchestrates serverless workflows including\n",
      "      coordination, state, and function chaining as well as combining long-running executions not\n",
      "      supported within Lambda execution limits by breaking into multiple steps or by calling workers\n",
      "        running on Amazon Elastic Compute Cloud (Amazon EC2) instances or on-premises.     \n"
     ]
    }
   ],
   "source": [
    "rep_phrases = [\"Javascript is disabled or is unavailable in your browser.To use the Amazon Web Services Documentation, Javascript must be enabled.\",\n",
    "               \"Please refer to your browser's Help pages for instructions.\",\n",
    "               r\"Document (.+?) this page help you\\?\",\n",
    "               \"YesThanks for letting us know we're doing a good job!\",\n",
    "               \"- If you've got a moment, please tell us what we did right so we can do more of it.\",\n",
    "               r\"Did this page help you\\? - NoThanks for letting us know this page needs work.\",\n",
    "               \"We're sorry we let you down.\",\n",
    "               \"If you've got a moment, please tell us how we can make the documentation better.\"\n",
    "              ]\n",
    "text = normalize_text(all_docs[2].page_content)\n",
    "print(remove_repetitive_phrases(rep_phrases,text))"
   ]
  },
  {
   "cell_type": "markdown",
   "id": "c498c440-cc69-4743-b7d4-deb1506275ef",
   "metadata": {},
   "source": [
    "We can see that the repetitive phrases at the end where succesfully removed and we now have the content that adds value to the context."
   ]
  },
  {
   "cell_type": "code",
   "execution_count": null,
   "id": "aec398cc-aadd-4682-b97c-c1dd46b1886c",
   "metadata": {},
   "outputs": [],
   "source": []
  }
 ],
 "metadata": {
  "kernelspec": {
   "display_name": "Python [conda env:base] *",
   "language": "python",
   "name": "conda-base-py"
  },
  "language_info": {
   "codemirror_mode": {
    "name": "ipython",
    "version": 3
   },
   "file_extension": ".py",
   "mimetype": "text/x-python",
   "name": "python",
   "nbconvert_exporter": "python",
   "pygments_lexer": "ipython3",
   "version": "3.12.7"
  }
 },
 "nbformat": 4,
 "nbformat_minor": 5
}
